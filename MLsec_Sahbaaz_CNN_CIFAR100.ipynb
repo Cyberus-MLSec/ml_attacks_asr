{
  "cells": [
    {
      "cell_type": "code",
      "execution_count": 38,
      "metadata": {
        "colab": {
          "base_uri": "https://localhost:8080/"
        },
        "id": "fsqId2ajFdLI",
        "outputId": "4839b174-6084-4093-b48e-4606b8bbcc7e"
      },
      "outputs": [
        {
          "output_type": "stream",
          "name": "stdout",
          "text": [
            "Requirement already satisfied: torchattacks in /usr/local/lib/python3.10/dist-packages (3.5.1)\n",
            "Requirement already satisfied: torch>=1.7.1 in /usr/local/lib/python3.10/dist-packages (from torchattacks) (2.3.0+cu121)\n",
            "Requirement already satisfied: torchvision>=0.8.2 in /usr/local/lib/python3.10/dist-packages (from torchattacks) (0.18.0+cu121)\n",
            "Requirement already satisfied: scipy>=0.14.0 in /usr/local/lib/python3.10/dist-packages (from torchattacks) (1.11.4)\n",
            "Requirement already satisfied: tqdm>=4.56.1 in /usr/local/lib/python3.10/dist-packages (from torchattacks) (4.66.4)\n",
            "Requirement already satisfied: requests~=2.25.1 in /usr/local/lib/python3.10/dist-packages (from torchattacks) (2.25.1)\n",
            "Requirement already satisfied: numpy>=1.19.4 in /usr/local/lib/python3.10/dist-packages (from torchattacks) (1.25.2)\n",
            "Requirement already satisfied: chardet<5,>=3.0.2 in /usr/local/lib/python3.10/dist-packages (from requests~=2.25.1->torchattacks) (4.0.0)\n",
            "Requirement already satisfied: idna<3,>=2.5 in /usr/local/lib/python3.10/dist-packages (from requests~=2.25.1->torchattacks) (2.10)\n",
            "Requirement already satisfied: urllib3<1.27,>=1.21.1 in /usr/local/lib/python3.10/dist-packages (from requests~=2.25.1->torchattacks) (1.26.19)\n",
            "Requirement already satisfied: certifi>=2017.4.17 in /usr/local/lib/python3.10/dist-packages (from requests~=2.25.1->torchattacks) (2024.6.2)\n",
            "Requirement already satisfied: filelock in /usr/local/lib/python3.10/dist-packages (from torch>=1.7.1->torchattacks) (3.15.1)\n",
            "Requirement already satisfied: typing-extensions>=4.8.0 in /usr/local/lib/python3.10/dist-packages (from torch>=1.7.1->torchattacks) (4.12.2)\n",
            "Requirement already satisfied: sympy in /usr/local/lib/python3.10/dist-packages (from torch>=1.7.1->torchattacks) (1.12.1)\n",
            "Requirement already satisfied: networkx in /usr/local/lib/python3.10/dist-packages (from torch>=1.7.1->torchattacks) (3.3)\n",
            "Requirement already satisfied: jinja2 in /usr/local/lib/python3.10/dist-packages (from torch>=1.7.1->torchattacks) (3.1.4)\n",
            "Requirement already satisfied: fsspec in /usr/local/lib/python3.10/dist-packages (from torch>=1.7.1->torchattacks) (2023.6.0)\n",
            "Requirement already satisfied: nvidia-cuda-nvrtc-cu12==12.1.105 in /usr/local/lib/python3.10/dist-packages (from torch>=1.7.1->torchattacks) (12.1.105)\n",
            "Requirement already satisfied: nvidia-cuda-runtime-cu12==12.1.105 in /usr/local/lib/python3.10/dist-packages (from torch>=1.7.1->torchattacks) (12.1.105)\n",
            "Requirement already satisfied: nvidia-cuda-cupti-cu12==12.1.105 in /usr/local/lib/python3.10/dist-packages (from torch>=1.7.1->torchattacks) (12.1.105)\n",
            "Requirement already satisfied: nvidia-cudnn-cu12==8.9.2.26 in /usr/local/lib/python3.10/dist-packages (from torch>=1.7.1->torchattacks) (8.9.2.26)\n",
            "Requirement already satisfied: nvidia-cublas-cu12==12.1.3.1 in /usr/local/lib/python3.10/dist-packages (from torch>=1.7.1->torchattacks) (12.1.3.1)\n",
            "Requirement already satisfied: nvidia-cufft-cu12==11.0.2.54 in /usr/local/lib/python3.10/dist-packages (from torch>=1.7.1->torchattacks) (11.0.2.54)\n",
            "Requirement already satisfied: nvidia-curand-cu12==10.3.2.106 in /usr/local/lib/python3.10/dist-packages (from torch>=1.7.1->torchattacks) (10.3.2.106)\n",
            "Requirement already satisfied: nvidia-cusolver-cu12==11.4.5.107 in /usr/local/lib/python3.10/dist-packages (from torch>=1.7.1->torchattacks) (11.4.5.107)\n",
            "Requirement already satisfied: nvidia-cusparse-cu12==12.1.0.106 in /usr/local/lib/python3.10/dist-packages (from torch>=1.7.1->torchattacks) (12.1.0.106)\n",
            "Requirement already satisfied: nvidia-nccl-cu12==2.20.5 in /usr/local/lib/python3.10/dist-packages (from torch>=1.7.1->torchattacks) (2.20.5)\n",
            "Requirement already satisfied: nvidia-nvtx-cu12==12.1.105 in /usr/local/lib/python3.10/dist-packages (from torch>=1.7.1->torchattacks) (12.1.105)\n",
            "Requirement already satisfied: triton==2.3.0 in /usr/local/lib/python3.10/dist-packages (from torch>=1.7.1->torchattacks) (2.3.0)\n",
            "Requirement already satisfied: nvidia-nvjitlink-cu12 in /usr/local/lib/python3.10/dist-packages (from nvidia-cusolver-cu12==11.4.5.107->torch>=1.7.1->torchattacks) (12.5.40)\n",
            "Requirement already satisfied: pillow!=8.3.*,>=5.3.0 in /usr/local/lib/python3.10/dist-packages (from torchvision>=0.8.2->torchattacks) (9.4.0)\n",
            "Requirement already satisfied: MarkupSafe>=2.0 in /usr/local/lib/python3.10/dist-packages (from jinja2->torch>=1.7.1->torchattacks) (2.1.5)\n",
            "Requirement already satisfied: mpmath<1.4.0,>=1.1.0 in /usr/local/lib/python3.10/dist-packages (from sympy->torch>=1.7.1->torchattacks) (1.3.0)\n"
          ]
        }
      ],
      "source": [
        "!pip install torchattacks"
      ]
    },
    {
      "cell_type": "code",
      "execution_count": 39,
      "metadata": {
        "colab": {
          "base_uri": "https://localhost:8080/"
        },
        "id": "ToG-s9caGQXO",
        "outputId": "cb3f4976-d00b-44a4-92dc-d41e71fbb715"
      },
      "outputs": [
        {
          "output_type": "stream",
          "name": "stdout",
          "text": [
            "Files already downloaded and verified\n",
            "Files already downloaded and verified\n",
            "Files already downloaded and verified\n"
          ]
        }
      ],
      "source": [
        "import torch\n",
        "import torch.nn as nn\n",
        "import torch.optim as optim\n",
        "import torchvision\n",
        "import torchvision.transforms as transforms\n",
        "import numpy as np\n",
        "import matplotlib.pyplot as plt\n",
        "from torch.utils.data import DataLoader\n",
        "import torchattacks\n",
        "\n",
        "\n",
        "transform = transforms.Compose([transforms.ToTensor(),\n",
        "                                transforms.Normalize((0.5, 0.5, 0.5),\n",
        "                                 (0.5, 0.5, 0.5))])\n",
        "\n",
        "batch_size=31\n",
        "\n",
        "\n",
        "train_dataset = torchvision.datasets.CIFAR100(root='./data', train=True,\n",
        "                                             download=True, transform=transform)\n",
        "\n",
        "val_dataset = torchvision.datasets.CIFAR100(root='./data', train=False,\n",
        "                                           download=True, transform=transform)\n",
        "\n",
        "test_dataset = torchvision.datasets.CIFAR100(root='./data', train=False,\n",
        "                                            download=True, transform=transform)\n",
        "\n",
        "train_loader = DataLoader(train_dataset, batch_size=batch_size, shuffle=True)\n",
        "val_loader = DataLoader(val_dataset, batch_size=batch_size, shuffle=False)\n",
        "test_loader = torch.utils.data.DataLoader(test_dataset, batch_size=batch_size, shuffle=True)\n",
        "\n",
        "\n",
        "classes = train_dataset.classes\n",
        "\n"
      ]
    },
    {
      "cell_type": "code",
      "execution_count": 40,
      "metadata": {
        "colab": {
          "base_uri": "https://localhost:8080/",
          "height": 307
        },
        "id": "cQaKr1lmGh4c",
        "outputId": "7acdef23-c0d9-4c1a-91bb-50bf6f4b5b09"
      },
      "outputs": [
        {
          "output_type": "display_data",
          "data": {
            "text/plain": [
              "<Figure size 300x400 with 6 Axes>"
            ],
            "image/png": "[encoded data removed]"
          },
          "metadata": {}
        }
      ],
      "source": [
        "import matplotlib.pyplot as plt\n",
        "import numpy as np\n",
        "\n",
        "# Function to show an image\n",
        "def imshow(img):\n",
        "    img = img / 2 + 0.5     # Unnormalize\n",
        "    npimg = img.numpy()\n",
        "    plt.imshow(np.transpose(npimg, (1, 2, 0)))\n",
        "\n",
        "batch_size = 6\n",
        "\n",
        "# Get some random training images\n",
        "dataiter = iter(train_loader)\n",
        "images, labels = next(dataiter)\n",
        "\n",
        "# Define the figure size\n",
        "plt.figure(figsize=(3, 4))  # 6 columns and 4 rows\n",
        "\n",
        "# Show images and print labels for the first 6 images\n",
        "for i in range(batch_size):\n",
        "    plt.subplot(2, 3, i+1)  # 2 rows, 3 columns, i+1 denotes the position of the subplot\n",
        "    imshow(torchvision.utils.make_grid(images[i]))\n",
        "    plt.title(f\"{classes[labels[i]]}\")\n",
        "    plt.axis('off')  # Turn off axis\n",
        "\n",
        "plt.tight_layout()\n",
        "plt.show()"
      ]
    },
    {
      "cell_type": "code",
      "execution_count": 41,
      "metadata": {
        "id": "zw2tci9SqOBo"
      },
      "outputs": [],
      "source": [
        "import torch.nn.functional as F\n",
        "# class SimpleCNN(nn.Module):\n",
        "#     def __init__(self):\n",
        "#         super(SimpleCNN, self).__init__()\n",
        "#         self.conv1 = nn.Conv2d(3, 32, kernel_size=3, stride=1, padding=1)\n",
        "#         self.pool = nn.MaxPool2d(kernel_size=2, stride=2)\n",
        "#         self.conv2 = nn.Conv2d(32, 64, kernel_size=3, stride=1, padding=1)\n",
        "#         self.fc1 = nn.Linear(64 * 8 * 8, 128)\n",
        "#         self.fc2 = nn.Linear(128, 10)\n",
        "\n",
        "#     def forward(self, x):\n",
        "#         x = self.pool(torch.relu(self.conv1(x))) #This line applies the first convolutional layer (conv1) to the input x, then applies the ReLU activation function (torch.relu)\n",
        "#         x = self.pool(torch.relu(self.conv2(x)))\n",
        "#         x = x.view(-1, 64 * 8 * 8) #This line reshapes (flattens) the output tensor x from the previous layer to prepare it for the fully connected layers.\n",
        "#         x = torch.relu(self.fc1(x)) #This applies the ReLU activation function to the output of the first fully connected layer (fc1).\n",
        "#         x = self.fc2(x) #This applies the second fully connected layer (fc2) to produce the final output tensor x\n",
        "#         return x\n",
        "\n",
        "# Define the model\n",
        "class SimpleCNN(nn.Module):\n",
        "    def __init__(self):\n",
        "        super(SimpleCNN, self).__init__()\n",
        "        self.conv1 = nn.Conv2d(3, 32, 3, padding=1)\n",
        "        self.conv2 = nn.Conv2d(32, 64, 3, padding=1)\n",
        "        self.pool = nn.MaxPool2d(2, 2)\n",
        "        self.fc1 = nn.Linear(64 * 8 * 8, 512)\n",
        "        self.fc2 = nn.Linear(512, 100)  # 100 classes for CIFAR-100\n",
        "\n",
        "    def forward(self, x):\n",
        "        x = self.pool(F.relu(self.conv1(x)))\n",
        "        x = self.pool(F.relu(self.conv2(x)))\n",
        "        x = x.view(-1, 64 * 8 * 8)\n",
        "        x = F.relu(self.fc1(x))\n",
        "        x = self.fc2(x)\n",
        "        return x"
      ]
    },
    {
      "cell_type": "code",
      "execution_count": 42,
      "metadata": {
        "id": "GKQT4m9SqIWn"
      },
      "outputs": [],
      "source": [
        "device = torch.device(\"cuda\" if torch.cuda.is_available() else \"cpu\")\n",
        "\n",
        "model = SimpleCNN().to(device)"
      ]
    },
    {
      "cell_type": "code",
      "execution_count": 43,
      "metadata": {
        "id": "WHhGrmyaqVOJ"
      },
      "outputs": [],
      "source": [
        "criterion = nn.CrossEntropyLoss()\n",
        "optimizer = optim.Adam(model.parameters(), lr=0.001)"
      ]
    },
    {
      "cell_type": "code",
      "execution_count": 44,
      "metadata": {
        "colab": {
          "base_uri": "https://localhost:8080/"
        },
        "id": "a8dvKYCIqWQJ",
        "outputId": "55aa2b01-d875-4eb7-e9a8-13e80e451603"
      },
      "outputs": [
        {
          "output_type": "stream",
          "name": "stdout",
          "text": [
            "Epoch 1/5, Loss: 3.3506, Train Accuracy: 0.1974, Val Accuracy: 0.2989\n",
            "Epoch 2/5, Loss: 2.5631, Train Accuracy: 0.3457, Val Accuracy: 0.3590\n",
            "Epoch 3/5, Loss: 2.1611, Train Accuracy: 0.4326, Val Accuracy: 0.3819\n",
            "Epoch 4/5, Loss: 1.8219, Train Accuracy: 0.5104, Val Accuracy: 0.3910\n",
            "Epoch 5/5, Loss: 1.5104, Train Accuracy: 0.5817, Val Accuracy: 0.4015\n"
          ]
        }
      ],
      "source": [
        "num_epochs = 5\n",
        "for epoch in range(num_epochs): # loop over the dataset multiple times\n",
        "    model.train()  # Set the model to training mode\n",
        "    running_loss = 0.0\n",
        "    correct_train = 0\n",
        "    total_train = 0\n",
        "\n",
        "    for images, labels in train_loader: # get the inputs; images.to(device), labels.to(device) is a list of [images, labels]\n",
        "        images, labels = images.to(device), labels.to(device)  # Move data to GPU\n",
        "\n",
        "        # zero the parameter gradients\n",
        "        optimizer.zero_grad()\n",
        "\n",
        "        # forward + backward + optimize\n",
        "        outputs = model(images)\n",
        "        loss = criterion(outputs, labels)\n",
        "        loss.backward()\n",
        "        optimizer.step()\n",
        "\n",
        "        running_loss += loss.item()\n",
        "        _, predicted = torch.max(outputs.data, 1)\n",
        "        total_train += labels.size(0)\n",
        "        correct_train += (predicted == labels).sum().item()\n",
        "\n",
        "    epoch_loss = running_loss / len(train_loader)\n",
        "    train_accuracy = correct_train / total_train\n",
        "\n",
        "    # Validation loop\n",
        "    model.eval()  # Set the model to evaluation mode\n",
        "    correct_val = 0\n",
        "    total_val = 0\n",
        "\n",
        "    with torch.no_grad():\n",
        "        for images, labels in val_loader:\n",
        "            images, labels = images.to(device), labels.to(device)\n",
        "            outputs = model(images)\n",
        "            _, predicted = torch.max(outputs.data, 1)\n",
        "            total_val += labels.size(0)\n",
        "            correct_val += (predicted == labels).sum().item()\n",
        "\n",
        "    val_accuracy = correct_val / total_val\n",
        "\n",
        "    # Print training and validation statistics\n",
        "    print(f'Epoch {epoch + 1}/{num_epochs}, Loss: {epoch_loss:.4f}, '\n",
        "          f'Train Accuracy: {train_accuracy:.4f}, Val Accuracy: {val_accuracy:.4f}')"
      ]
    },
    {
      "cell_type": "code",
      "execution_count": 45,
      "metadata": {
        "id": "1PNDTHNbqffI"
      },
      "outputs": [],
      "source": [
        "torch.save(model.state_dict(), 'cifar100_model.pth')"
      ]
    },
    {
      "cell_type": "code",
      "execution_count": 46,
      "metadata": {
        "colab": {
          "base_uri": "https://localhost:8080/",
          "height": 306
        },
        "id": "zbZ-NnrbqilV",
        "outputId": "d0c30128-22a9-41fe-eac6-6796f71b729c"
      },
      "outputs": [
        {
          "output_type": "display_data",
          "data": {
            "text/plain": [
              "<Figure size 300x300 with 4 Axes>"
            ],
            "image/png": "[encoded data removed]"
          },
          "metadata": {}
        }
      ],
      "source": [
        "dataiter = iter(test_loader)\n",
        "images, labels = next(dataiter)\n",
        "\n",
        "# print images\n",
        "# Define the figure size\n",
        "plt.figure(figsize=(3, 3))  # 3 columns and 4 rows\n",
        "\n",
        "# Print images and labels for the first 4 images\n",
        "for i in range(min(4, len(labels))):\n",
        "    plt.subplot(2, 2, i+1)  # 2 rows, 2 columns, i+1 denotes the position of the subplot\n",
        "    imshow(torchvision.utils.make_grid(images[i]))\n",
        "    plt.title(f\"Label: {classes[labels[i]]}\")\n",
        "    plt.axis('off')  # Turn off axis\n",
        "\n",
        "plt.tight_layout()\n",
        "plt.show()\n"
      ]
    },
    {
      "cell_type": "code",
      "execution_count": 47,
      "metadata": {
        "colab": {
          "base_uri": "https://localhost:8080/"
        },
        "id": "_kuRISKgqAGB",
        "outputId": "17b9e1af-77ee-4410-80d9-0cc9ecbbc569"
      },
      "outputs": [
        {
          "output_type": "execute_result",
          "data": {
            "text/plain": [
              "<All keys matched successfully>"
            ]
          },
          "metadata": {},
          "execution_count": 47
        }
      ],
      "source": [
        "model = SimpleCNN().to(device)\n",
        "model.load_state_dict(torch.load('cifar100_model.pth'))"
      ]
    },
    {
      "cell_type": "code",
      "execution_count": 48,
      "metadata": {
        "id": "RXWReCgqqAAi"
      },
      "outputs": [],
      "source": [
        "outputs = model(images)"
      ]
    },
    {
      "cell_type": "code",
      "execution_count": 49,
      "metadata": {
        "colab": {
          "base_uri": "https://localhost:8080/"
        },
        "id": "hhMEosWTs9yq",
        "outputId": "e6779837-3264-46f0-f4cb-da8a024db7b0"
      },
      "outputs": [
        {
          "output_type": "stream",
          "name": "stdout",
          "text": [
            "Predicted:  crocodile willow_tree castle fox  \n"
          ]
        }
      ],
      "source": [
        "_, predicted = torch.max(outputs, 1)\n",
        "\n",
        "print('Predicted: ', ' '.join(f'{classes[predicted[j]]:5s}'\n",
        "                              for j in range(4)))"
      ]
    },
    {
      "cell_type": "code",
      "execution_count": 50,
      "metadata": {
        "colab": {
          "base_uri": "https://localhost:8080/"
        },
        "id": "h6LwjDU9tDhB",
        "outputId": "e7a8b900-caff-4ddf-cadf-495179860726"
      },
      "outputs": [
        {
          "output_type": "stream",
          "name": "stdout",
          "text": [
            "Accuracy of the network on the 10000 test images: 40 %\n"
          ]
        }
      ],
      "source": [
        "correct = 0\n",
        "total = 0\n",
        "# since we're not training, we don't need to calculate the gradients for our outputs\n",
        "with torch.no_grad():\n",
        "    for data in test_loader:\n",
        "        images, labels = data\n",
        "        # calculate outputs by running images through the network\n",
        "        outputs = model(images)\n",
        "        # the class with the highest energy is what we choose as prediction\n",
        "        _, predicted = torch.max(outputs.data, 1)\n",
        "        total += labels.size(0)\n",
        "        correct += (predicted == labels).sum().item()\n",
        "\n",
        "print(f'Accuracy of the network on the 10000 test images: {100 * correct // total} %')"
      ]
    },
    {
      "cell_type": "code",
      "execution_count": 51,
      "metadata": {
        "colab": {
          "base_uri": "https://localhost:8080/"
        },
        "id": "ydkg0m8OtUfT",
        "outputId": "b7103ffc-5adb-45f1-c425-6ea62fe5840d"
      },
      "outputs": [
        {
          "output_type": "stream",
          "name": "stdout",
          "text": [
            "Accuracy for class: apple is 66.0 %\n",
            "Accuracy for class: aquarium_fish is 54.0 %\n",
            "Accuracy for class: baby  is 24.0 %\n",
            "Accuracy for class: bear  is 17.0 %\n",
            "Accuracy for class: beaver is 18.0 %\n",
            "Accuracy for class: bed   is 46.0 %\n",
            "Accuracy for class: bee   is 30.0 %\n",
            "Accuracy for class: beetle is 43.0 %\n",
            "Accuracy for class: bicycle is 58.0 %\n",
            "Accuracy for class: bottle is 54.0 %\n",
            "Accuracy for class: bowl  is 6.0 %\n",
            "Accuracy for class: boy   is 21.0 %\n",
            "Accuracy for class: bridge is 37.0 %\n",
            "Accuracy for class: bus   is 32.0 %\n",
            "Accuracy for class: butterfly is 33.0 %\n",
            "Accuracy for class: camel is 32.0 %\n",
            "Accuracy for class: can   is 46.0 %\n",
            "Accuracy for class: castle is 59.0 %\n",
            "Accuracy for class: caterpillar is 30.0 %\n",
            "Accuracy for class: cattle is 26.0 %\n",
            "Accuracy for class: chair is 62.0 %\n",
            "Accuracy for class: chimpanzee is 52.0 %\n",
            "Accuracy for class: clock is 35.0 %\n",
            "Accuracy for class: cloud is 58.0 %\n",
            "Accuracy for class: cockroach is 67.0 %\n",
            "Accuracy for class: couch is 14.0 %\n",
            "Accuracy for class: crab  is 34.0 %\n",
            "Accuracy for class: crocodile is 28.0 %\n",
            "Accuracy for class: cup   is 50.0 %\n",
            "Accuracy for class: dinosaur is 38.0 %\n",
            "Accuracy for class: dolphin is 45.0 %\n",
            "Accuracy for class: elephant is 36.0 %\n",
            "Accuracy for class: flatfish is 28.0 %\n",
            "Accuracy for class: forest is 44.0 %\n",
            "Accuracy for class: fox   is 30.0 %\n",
            "Accuracy for class: girl  is 27.0 %\n",
            "Accuracy for class: hamster is 36.0 %\n",
            "Accuracy for class: house is 41.0 %\n",
            "Accuracy for class: kangaroo is 31.0 %\n",
            "Accuracy for class: keyboard is 40.0 %\n",
            "Accuracy for class: lamp  is 39.0 %\n",
            "Accuracy for class: lawn_mower is 58.0 %\n",
            "Accuracy for class: leopard is 31.0 %\n",
            "Accuracy for class: lion  is 54.0 %\n",
            "Accuracy for class: lizard is 22.0 %\n",
            "Accuracy for class: lobster is 22.0 %\n",
            "Accuracy for class: man   is 12.0 %\n",
            "Accuracy for class: maple_tree is 38.0 %\n",
            "Accuracy for class: motorcycle is 62.0 %\n",
            "Accuracy for class: mountain is 42.0 %\n",
            "Accuracy for class: mouse is 30.0 %\n",
            "Accuracy for class: mushroom is 30.0 %\n",
            "Accuracy for class: oak_tree is 79.0 %\n",
            "Accuracy for class: orange is 69.0 %\n",
            "Accuracy for class: orchid is 56.0 %\n",
            "Accuracy for class: otter is 7.0 %\n",
            "Accuracy for class: palm_tree is 54.0 %\n",
            "Accuracy for class: pear  is 45.0 %\n",
            "Accuracy for class: pickup_truck is 42.0 %\n",
            "Accuracy for class: pine_tree is 29.0 %\n",
            "Accuracy for class: plain is 71.0 %\n",
            "Accuracy for class: plate is 59.0 %\n",
            "Accuracy for class: poppy is 36.0 %\n",
            "Accuracy for class: porcupine is 45.0 %\n",
            "Accuracy for class: possum is 19.0 %\n",
            "Accuracy for class: rabbit is 36.0 %\n",
            "Accuracy for class: raccoon is 30.0 %\n",
            "Accuracy for class: ray   is 33.0 %\n",
            "Accuracy for class: road  is 70.0 %\n",
            "Accuracy for class: rocket is 64.0 %\n",
            "Accuracy for class: rose  is 53.0 %\n",
            "Accuracy for class: sea   is 43.0 %\n",
            "Accuracy for class: seal  is 12.0 %\n",
            "Accuracy for class: shark is 46.0 %\n",
            "Accuracy for class: shrew is 34.0 %\n",
            "Accuracy for class: skunk is 59.0 %\n",
            "Accuracy for class: skyscraper is 65.0 %\n",
            "Accuracy for class: snail is 10.0 %\n",
            "Accuracy for class: snake is 21.0 %\n",
            "Accuracy for class: spider is 38.0 %\n",
            "Accuracy for class: squirrel is 4.0 %\n",
            "Accuracy for class: streetcar is 32.0 %\n",
            "Accuracy for class: sunflower is 72.0 %\n",
            "Accuracy for class: sweet_pepper is 35.0 %\n",
            "Accuracy for class: table is 37.0 %\n",
            "Accuracy for class: tank  is 51.0 %\n",
            "Accuracy for class: telephone is 51.0 %\n",
            "Accuracy for class: television is 51.0 %\n",
            "Accuracy for class: tiger is 52.0 %\n",
            "Accuracy for class: tractor is 44.0 %\n",
            "Accuracy for class: train is 42.0 %\n",
            "Accuracy for class: trout is 50.0 %\n",
            "Accuracy for class: tulip is 32.0 %\n",
            "Accuracy for class: turtle is 20.0 %\n",
            "Accuracy for class: wardrobe is 68.0 %\n",
            "Accuracy for class: whale is 44.0 %\n",
            "Accuracy for class: willow_tree is 45.0 %\n",
            "Accuracy for class: wolf  is 41.0 %\n",
            "Accuracy for class: woman is 15.0 %\n",
            "Accuracy for class: worm  is 36.0 %\n"
          ]
        }
      ],
      "source": [
        "# prepare to count predictions for each class\n",
        "correct_pred = {classname: 0 for classname in classes}\n",
        "total_pred = {classname: 0 for classname in classes}\n",
        "\n",
        "# again no gradients needed\n",
        "with torch.no_grad():\n",
        "    for data in test_loader:\n",
        "        images, labels = data\n",
        "        outputs = model(images)\n",
        "        _, predictions = torch.max(outputs, 1)\n",
        "        # collect the correct predictions for each class\n",
        "        for label, prediction in zip(labels, predictions):\n",
        "            if label == prediction:\n",
        "                correct_pred[classes[label]] += 1\n",
        "            total_pred[classes[label]] += 1\n",
        "\n",
        "\n",
        "# print accuracy for each class\n",
        "for classname, correct_count in correct_pred.items():\n",
        "    accuracy = 100 * float(correct_count) / total_pred[classname]\n",
        "    print(f'Accuracy for class: {classname:5s} is {accuracy:.1f} %')"
      ]
    },
    {
      "cell_type": "code",
      "source": [
        "# Define the FGSM attack and calculate ASR\n",
        "attack_FGSM = torchattacks.FGSM(model, eps=8/255)\n",
        "successful_attacks_FGSM = 0\n",
        "total_samples = len(test_dataset)\n",
        "\n",
        "for original_image, original_label in test_dataset:\n",
        "    original_label_tensor = torch.tensor(original_label)\n",
        "    adv_images_FGSM = attack_FGSM(original_image.unsqueeze(0), original_label_tensor.unsqueeze(0))\n",
        "    original_prediction = torch.argmax(model(original_image.unsqueeze(0)))\n",
        "    adversarial_prediction = torch.argmax(model(adv_images_FGSM))\n",
        "\n",
        "    if original_prediction != adversarial_prediction:\n",
        "        successful_attacks_FGSM += 1\n",
        "\n",
        "success_rate_FGSM = successful_attacks_FGSM / total_samples\n",
        "print(\"FGSM Success Rate:\", success_rate_FGSM)"
      ],
      "metadata": {
        "colab": {
          "base_uri": "https://localhost:8080/"
        },
        "id": "VXolTSWbeu6c",
        "outputId": "dab73c0a-f49d-4ca3-f4f1-48ff317a95a4"
      },
      "execution_count": 53,
      "outputs": [
        {
          "output_type": "stream",
          "name": "stdout",
          "text": [
            "FGSM Success Rate: 0.8286\n"
          ]
        }
      ]
    },
    {
      "cell_type": "code",
      "execution_count": 23,
      "metadata": {
        "colab": {
          "base_uri": "https://localhost:8080/",
          "height": 357
        },
        "id": "p2tVzHIbyoAU",
        "outputId": "2d7bd73c-739a-467e-a70f-4bf96f5c9d13"
      },
      "outputs": [
        {
          "output_type": "stream",
          "name": "stderr",
          "text": [
            "WARNING:matplotlib.image:Clipping input data to the valid range for imshow with RGB data ([0..1] for floats or [0..255] for integers).\n"
          ]
        },
        {
          "output_type": "display_data",
          "data": {
            "text/plain": [
              "<Figure size 600x300 with 2 Axes>"
            ],
            "image/png": "[encoded data removed]"
          },
          "metadata": {}
        },
        {
          "output_type": "stream",
          "name": "stdout",
          "text": [
            "Original Label: 26\n",
            "Original Prediction: dinosaur\n",
            "Adversarial Prediction: cloud\n",
            "Success Rate: 0.89\n"
          ]
        }
      ],
      "source": [
        "import torch\n",
        "import torchattacks\n",
        "import numpy as np\n",
        "import matplotlib.pyplot as plt\n",
        "\n",
        "# Define the FGSM attack\n",
        "attack_FGSM = torchattacks.FGSM(model, eps=8/255)\n",
        "\n",
        "# Function to get predictions\n",
        "def get_prediction(image):\n",
        "    return torch.argmax(model(image.unsqueeze(0)))\n",
        "\n",
        "# Variables to count successful attacks\n",
        "successful_attacks = 0\n",
        "total_samples = 100  # Use a subset of the dataset for speed\n",
        "\n",
        "for i in range(total_samples):\n",
        "    # Choose a random data point from the test dataset\n",
        "    index_FGSM = np.random.randint(0, len(test_dataset))\n",
        "    original_image_FGSM, original_label_FGSM = test_dataset[index_FGSM]\n",
        "\n",
        "    # Ensure original_label is a PyTorch tensor\n",
        "    original_label_tensor_FGSM = torch.tensor(original_label_FGSM)\n",
        "\n",
        "    # Apply the FGSM attack to the original image\n",
        "    adv_images_FGSM = attack_FGSM(original_image_FGSM.unsqueeze(0), original_label_tensor_FGSM.unsqueeze(0))\n",
        "\n",
        "    # Predictions on original and adversarial images\n",
        "    original_prediction_FGSM = get_prediction(original_image_FGSM)\n",
        "    adversarial_prediction_FGSM = get_prediction(adv_images_FGSM.squeeze(0))\n",
        "\n",
        "    if original_prediction_FGSM != adversarial_prediction_FGSM:\n",
        "        successful_attacks += 1\n",
        "\n",
        "    # Visualize the original image and adversarial image along with their predictions (for the first sample only)\n",
        "    if i == 0:\n",
        "        fig, axs = plt.subplots(1, 2, figsize=(6, 3))\n",
        "\n",
        "        axs[0].imshow(np.transpose(original_image_FGSM.squeeze().detach().cpu().numpy(), (1, 2, 0)))\n",
        "        axs[0].set_title(\"Original Image\")\n",
        "        axs[0].axis('off')\n",
        "\n",
        "        axs[1].imshow(np.transpose(adv_images_FGSM.squeeze().detach().cpu().numpy(), (1, 2, 0)))\n",
        "        axs[1].set_title(\"Adversarial Image\")\n",
        "        axs[1].axis('off')\n",
        "\n",
        "        plt.show()\n",
        "\n",
        "        # Print the original and adversarial predictions\n",
        "        print(\"Original Label:\", original_label_FGSM)\n",
        "        print(\"Original Prediction:\", classes[original_prediction_FGSM.item()])\n",
        "        print(\"Adversarial Prediction:\", classes[adversarial_prediction_FGSM.item()])\n",
        "\n",
        "# Calculate the success rate\n",
        "success_rate = successful_attacks / total_samples\n",
        "\n",
        "print(\"Success Rate:\", success_rate)\n"
      ]
    },
    {
      "cell_type": "code",
      "source": [
        "import torch\n",
        "import torchattacks\n",
        "import numpy as np\n",
        "import matplotlib.pyplot as plt\n",
        "\n",
        "# Define the RFGSM attack\n",
        "eps = 8 / 255\n",
        "alpha = 2 / 255  # A small step size for random perturbation\n",
        "attack_RFGSM = torchattacks.RFGSM(model, eps=eps, alpha=alpha)\n",
        "\n",
        "# Function to get predictions\n",
        "def get_prediction(image):\n",
        "    return torch.argmax(model(image.unsqueeze(0)))\n",
        "\n",
        "# Variables to count successful attacks\n",
        "successful_attacks = 0\n",
        "total_samples = 100  # Use a subset of the dataset for speed\n",
        "\n",
        "for i in range(total_samples):\n",
        "    index_RFGSM = np.random.randint(0, len(test_dataset))\n",
        "    original_image_RFGSM, original_label_RFGSM = test_dataset[index_RFGSM]\n",
        "\n",
        "    original_label_tensor_RFGSM = torch.tensor(original_label_RFGSM)\n",
        "\n",
        "    adv_images_RFGSM = attack_RFGSM(original_image_RFGSM.unsqueeze(0), original_label_tensor_RFGSM.unsqueeze(0))\n",
        "    original_prediction_RFGSM = get_prediction(original_image_RFGSM)\n",
        "    adversarial_prediction_RFGSM = get_prediction(adv_images_RFGSM.squeeze(0))\n",
        "\n",
        "    # Check if the predictions differ\n",
        "    if original_prediction_RFGSM != adversarial_prediction_RFGSM:\n",
        "        successful_attacks += 1\n",
        "\n",
        "    # Visualize the original image and adversarial image along with their predictions (for the first sample only)\n",
        "    if i == 0:\n",
        "        fig, axs = plt.subplots(1, 2, figsize=(6, 3))\n",
        "        axs[0].imshow(np.transpose(original_image_RFGSM.squeeze().detach().cpu().numpy(), (1, 2, 0)))\n",
        "        axs[0].set_title(\"Original Image\")\n",
        "        axs[0].axis('off')\n",
        "\n",
        "        axs[1].imshow(np.transpose(adv_images_RFGSM.squeeze().detach().cpu().numpy(), (1, 2, 0)))\n",
        "        axs[1].set_title(\"Adversarial Image\")\n",
        "        axs[1].axis('off')\n",
        "\n",
        "        plt.show()\n",
        "\n",
        "        # Print the original and adversarial predictions\n",
        "        print(\"Original Label:\", original_label_RFGSM)\n",
        "        print(\"Original Prediction:\", classes[original_prediction_RFGSM.item()])\n",
        "        print(\"Adversarial Prediction:\", classes[adversarial_prediction_RFGSM.item()])\n",
        "success_rate = successful_attacks / total_samples\n",
        "print(\"Success Rate:\", success_rate)\n"
      ],
      "metadata": {
        "colab": {
          "base_uri": "https://localhost:8080/",
          "height": 357
        },
        "id": "VZsnyNnZkS2Y",
        "outputId": "9cde9aa6-264c-4a2d-c299-a33174edf887"
      },
      "execution_count": 54,
      "outputs": [
        {
          "output_type": "stream",
          "name": "stderr",
          "text": [
            "WARNING:matplotlib.image:Clipping input data to the valid range for imshow with RGB data ([0..1] for floats or [0..255] for integers).\n"
          ]
        },
        {
          "output_type": "display_data",
          "data": {
            "text/plain": [
              "<Figure size 600x300 with 2 Axes>"
            ],
            "image/png": "[encoded data removed]"
          },
          "metadata": {}
        },
        {
          "output_type": "stream",
          "name": "stdout",
          "text": [
            "Original Label: 41\n",
            "Original Prediction: lawn_mower\n",
            "Adversarial Prediction: telephone\n",
            "Success Rate: 0.83\n"
          ]
        }
      ]
    },
    {
      "cell_type": "code",
      "source": [
        "import torch\n",
        "import torchattacks\n",
        "import numpy as np\n",
        "import matplotlib.pyplot as plt\n",
        "\n",
        "# Define the PGD attack\n",
        "attack_PGD = torchattacks.PGD(model, eps=8/255, alpha=2/255, steps=40)\n",
        "\n",
        "# Function to get predictions\n",
        "def get_prediction(image):\n",
        "    return torch.argmax(model(image.unsqueeze(0)))\n",
        "successful_attacks = 0\n",
        "total_samples = 100  # Use a subset of the dataset for speed\n",
        "\n",
        "for i in range(total_samples):\n",
        "    # Choose a random data point from the test dataset\n",
        "    index_PGD = np.random.randint(0, len(test_dataset))\n",
        "    original_image_PGD, original_label_PGD = test_dataset[index_PGD]\n",
        "\n",
        "    # Ensure original_label is a PyTorch tensor\n",
        "    original_label_tensor_PGD = torch.tensor(original_label_PGD)\n",
        "\n",
        "    # Apply the PGD attack to the original image\n",
        "    adv_images_PGD = attack_PGD(original_image_PGD.unsqueeze(0), original_label_tensor_PGD.unsqueeze(0))\n",
        "\n",
        "    # Predictions on original and adversarial images\n",
        "    original_prediction_PGD = get_prediction(original_image_PGD)\n",
        "    adversarial_prediction_PGD = get_prediction(adv_images_PGD.squeeze(0))\n",
        "\n",
        "    # Check if the predictions differ\n",
        "    if original_prediction_PGD != adversarial_prediction_PGD:\n",
        "        successful_attacks += 1\n",
        "\n",
        "    # Visualize the original image and adversarial image along with their predictions (for the first sample only)\n",
        "    if i == 0:\n",
        "        fig, axs = plt.subplots(1, 2, figsize=(6, 3))\n",
        "        axs[0].imshow(np.transpose(original_image_PGD.squeeze().detach().cpu().numpy(), (1, 2, 0)))\n",
        "        axs[0].set_title(\"Original Image\")\n",
        "        axs[0].axis('off')\n",
        "\n",
        "        axs[1].imshow(np.transpose(adv_images_PGD.squeeze().detach().cpu().numpy(), (1, 2, 0)))\n",
        "        axs[1].set_title(\"Adversarial Image\")\n",
        "        axs[1].axis('off')\n",
        "\n",
        "        plt.show()\n",
        "\n",
        "        print(\"Original Label:\", original_label_PGD)\n",
        "        print(\"Original Prediction:\", classes[original_prediction_PGD.item()])\n",
        "        print(\"Adversarial Prediction:\", classes[adversarial_prediction_PGD.item()])\n",
        "\n",
        "success_rate = successful_attacks / total_samples\n",
        "print(\"Success Rate:\", success_rate)\n"
      ],
      "metadata": {
        "colab": {
          "base_uri": "https://localhost:8080/",
          "height": 357
        },
        "id": "lMkD3KZjk93d",
        "outputId": "86bac8b0-0352-471d-f266-ab99df56f45a"
      },
      "execution_count": 55,
      "outputs": [
        {
          "output_type": "stream",
          "name": "stderr",
          "text": [
            "WARNING:matplotlib.image:Clipping input data to the valid range for imshow with RGB data ([0..1] for floats or [0..255] for integers).\n"
          ]
        },
        {
          "output_type": "display_data",
          "data": {
            "text/plain": [
              "<Figure size 600x300 with 2 Axes>"
            ],
            "image/png": "[encoded data removed]"
          },
          "metadata": {}
        },
        {
          "output_type": "stream",
          "name": "stdout",
          "text": [
            "Original Label: 39\n",
            "Original Prediction: keyboard\n",
            "Adversarial Prediction: cloud\n",
            "Success Rate: 0.87\n"
          ]
        }
      ]
    },
    {
      "cell_type": "code",
      "source": [
        "import torch\n",
        "import torchattacks\n",
        "import numpy as np\n",
        "import matplotlib.pyplot as plt\n",
        "\n",
        "# Define the EOTPGD attack\n",
        "attack_EOTPGD = torchattacks.EOTPGD(model, eps=8/255, alpha=2/255, steps=10)\n",
        "\n",
        "def get_prediction(image):\n",
        "    return torch.argmax(model(image.unsqueeze(0)))\n",
        "\n",
        "successful_attacks = 0\n",
        "total_samples = 100  # Use a subset of the dataset for speed\n",
        "\n",
        "for i in range(total_samples):\n",
        "    # Choose a random data point from the test dataset\n",
        "    index_EOTPGD = np.random.randint(0, len(test_dataset))\n",
        "    original_image_EOTPGD, original_label_EOTPGD = test_dataset[index_EOTPGD]\n",
        "\n",
        "    # Ensure original_label is a PyTorch tensor\n",
        "    original_label_tensor_EOTPGD = torch.tensor(original_label_EOTPGD)\n",
        "\n",
        "    # Apply the EOTPGD attack to the original image\n",
        "    adv_images_EOTPGD = attack_EOTPGD(original_image_EOTPGD.unsqueeze(0), original_label_tensor_EOTPGD.unsqueeze(0))\n",
        "\n",
        "    # Predictions on original and adversarial images\n",
        "    original_prediction_EOTPGD = get_prediction(original_image_EOTPGD)\n",
        "    adversarial_prediction_EOTPGD = get_prediction(adv_images_EOTPGD.squeeze(0))\n",
        "\n",
        "    # Check if the predictions differ\n",
        "    if original_prediction_EOTPGD != adversarial_prediction_EOTPGD:\n",
        "        successful_attacks += 1\n",
        "\n",
        "    # Visualize the original image and adversarial image along with their predictions (for the first sample only)\n",
        "    if i == 0:\n",
        "        fig, axs = plt.subplots(1, 2, figsize=(6, 3))\n",
        "        axs[0].imshow(np.transpose(original_image_EOTPGD.squeeze().detach().cpu().numpy(), (1, 2, 0)))\n",
        "        axs[0].set_title(\"Original Image\")\n",
        "        axs[0].axis('off')\n",
        "\n",
        "        axs[1].imshow(np.transpose(adv_images_EOTPGD.squeeze().detach().cpu().numpy(), (1, 2, 0)))\n",
        "        axs[1].set_title(\"Adversarial Image\")\n",
        "        axs[1].axis('off')\n",
        "\n",
        "        plt.show()\n",
        "        print(\"Original Label:\", original_label_EOTPGD)\n",
        "        print(\"Original Prediction:\", classes[original_prediction_EOTPGD.item()])\n",
        "        print(\"Adversarial Prediction:\", classes[adversarial_prediction_EOTPGD.item()])\n",
        "success_rate = successful_attacks / total_samples\n",
        "print(\"Success Rate:\", success_rate)\n"
      ],
      "metadata": {
        "colab": {
          "base_uri": "https://localhost:8080/",
          "height": 357
        },
        "id": "N_Yya7mHlz3K",
        "outputId": "11cd88b0-29f5-433d-da12-b93039dfe6eb"
      },
      "execution_count": 56,
      "outputs": [
        {
          "output_type": "stream",
          "name": "stderr",
          "text": [
            "WARNING:matplotlib.image:Clipping input data to the valid range for imshow with RGB data ([0..1] for floats or [0..255] for integers).\n"
          ]
        },
        {
          "output_type": "display_data",
          "data": {
            "text/plain": [
              "<Figure size 600x300 with 2 Axes>"
            ],
            "image/png": "[encoded data removed]"
          },
          "metadata": {}
        },
        {
          "output_type": "stream",
          "name": "stdout",
          "text": [
            "Original Label: 27\n",
            "Original Prediction: crocodile\n",
            "Adversarial Prediction: worm\n",
            "Success Rate: 0.93\n"
          ]
        }
      ]
    },
    {
      "cell_type": "code",
      "source": [
        "import torch\n",
        "import torchattacks\n",
        "import numpy as np\n",
        "import matplotlib.pyplot as plt\n",
        "\n",
        "# Define the FFGSM attack\n",
        "attack_FFGSM = torchattacks.FFGSM(model)\n",
        "\n",
        "# Function to get predictions\n",
        "def get_prediction(image):\n",
        "    return torch.argmax(model(image.unsqueeze(0)))\n",
        "\n",
        "# Variables to count successful attacks\n",
        "successful_attacks = 0\n",
        "total_samples = 100  # Use a subset of the dataset for speed\n",
        "\n",
        "for i in range(total_samples):\n",
        "    index_FFGSM = np.random.randint(0, len(test_dataset))\n",
        "    original_image_FFGSM, original_label_FFGSM = test_dataset[index_FFGSM]\n",
        "\n",
        "    original_label_tensor_FFGSM = torch.tensor(original_label_FFGSM)\n",
        "\n",
        "    adv_images_FFGSM = attack_FFGSM(original_image_FFGSM.unsqueeze(0), original_label_tensor_FFGSM.unsqueeze(0))\n",
        "\n",
        "    # Predictions on original and adversarial images\n",
        "    original_prediction_FFGSM = get_prediction(original_image_FFGSM)\n",
        "    adversarial_prediction_FFGSM = get_prediction(adv_images_FFGSM.squeeze(0))\n",
        "    if original_prediction_FFGSM != adversarial_prediction_FFGSM:\n",
        "        successful_attacks += 1\n",
        "\n",
        "    # Visualize the original image and adversarial image along with their predictions (for the first sample only)\n",
        "    if i == 0:\n",
        "        fig, axs = plt.subplots(1, 2, figsize=(6, 3))\n",
        "        axs[0].imshow(np.transpose(original_image_FFGSM.squeeze().detach().cpu().numpy(), (1, 2, 0)))\n",
        "        axs[0].set_title(\"Original Image\")\n",
        "        axs[0].axis('off')\n",
        "\n",
        "        axs[1].imshow(np.transpose(adv_images_FFGSM.squeeze().detach().cpu().numpy(), (1, 2, 0)))\n",
        "        axs[1].set_title(\"Adversarial Image\")\n",
        "        axs[1].axis('off')\n",
        "\n",
        "        plt.show()\n",
        "        print(\"Original Label:\", original_label_FFGSM)\n",
        "        print(\"Original Prediction:\", classes[original_prediction_FFGSM.item()])\n",
        "        print(\"Adversarial Prediction:\", classes[adversarial_prediction_FFGSM.item()])\n",
        "\n",
        "success_rate = successful_attacks / total_samples\n",
        "print(\"Success Rate:\", success_rate)\n"
      ],
      "metadata": {
        "colab": {
          "base_uri": "https://localhost:8080/",
          "height": 357
        },
        "id": "nkDhAUzjmKDF",
        "outputId": "e345022d-10ac-411f-b68b-9fc1a5a1977b"
      },
      "execution_count": 57,
      "outputs": [
        {
          "output_type": "stream",
          "name": "stderr",
          "text": [
            "WARNING:matplotlib.image:Clipping input data to the valid range for imshow with RGB data ([0..1] for floats or [0..255] for integers).\n"
          ]
        },
        {
          "output_type": "display_data",
          "data": {
            "text/plain": [
              "<Figure size 600x300 with 2 Axes>"
            ],
            "image/png": "[encoded data removed]"
          },
          "metadata": {}
        },
        {
          "output_type": "stream",
          "name": "stdout",
          "text": [
            "Original Label: 90\n",
            "Original Prediction: tractor\n",
            "Adversarial Prediction: aquarium_fish\n",
            "Success Rate: 0.92\n"
          ]
        }
      ]
    },
    {
      "cell_type": "code",
      "source": [
        "import torch\n",
        "import torchattacks\n",
        "import numpy as np\n",
        "import matplotlib.pyplot as plt\n",
        "\n",
        "# Define the CW attack\n",
        "attack_CW = torchattacks.CW(model, c=1, kappa=0, steps=50, lr=0.01)\n",
        "\n",
        "# Function to get predictions\n",
        "def get_prediction(image):\n",
        "    return torch.argmax(model(image.unsqueeze(0)))\n",
        "\n",
        "# Variables to count successful attacks\n",
        "successful_attacks = 0\n",
        "total_samples = 100  # Use a subset of the dataset for speed\n",
        "\n",
        "for i in range(total_samples):\n",
        "    index_CW = np.random.randint(0, len(test_dataset))\n",
        "    original_image_CW, original_label_CW = test_dataset[index_CW]\n",
        "\n",
        "    original_label_tensor_CW = torch.tensor(original_label_CW)\n",
        "\n",
        "    adv_images_CW = attack_CW(original_image_CW.unsqueeze(0), original_label_tensor_CW.unsqueeze(0))\n",
        "\n",
        "    original_prediction_CW = get_prediction(original_image_CW)\n",
        "    adversarial_prediction_CW = get_prediction(adv_images_CW.squeeze(0))\n",
        "\n",
        "    if original_prediction_CW != adversarial_prediction_CW:\n",
        "        successful_attacks += 1\n",
        "\n",
        "    # Visualize the original image and adversarial image along with their predictions (for the first sample only)\n",
        "    if i == 0:\n",
        "        fig, axs = plt.subplots(1, 2, figsize=(6, 3))\n",
        "        axs[0].imshow(np.transpose(original_image_CW.squeeze().detach().cpu().numpy(), (1, 2, 0)))\n",
        "        axs[0].set_title(\"Original Image\")\n",
        "        axs[0].axis('off')\n",
        "\n",
        "        axs[1].imshow(np.transpose(adv_images_CW.squeeze().detach().cpu().numpy(), (1, 2, 0)))\n",
        "        axs[1].set_title(\"Adversarial Image\")\n",
        "        axs[1].axis('off')\n",
        "\n",
        "        plt.show()\n",
        "        print(\"Original Label:\", original_label_CW)\n",
        "        print(\"Original Prediction:\", classes[original_prediction_CW.item()])\n",
        "        print(\"Adversarial Prediction:\", classes[adversarial_prediction_CW.item()])\n",
        "\n",
        "success_rate = successful_attacks / total_samples\n",
        "print(\"Success Rate:\", success_rate)\n"
      ],
      "metadata": {
        "colab": {
          "base_uri": "https://localhost:8080/",
          "height": 357
        },
        "id": "8x5nIrn3mkDi",
        "outputId": "76f5ef5b-06f2-4b55-b499-cfb4440dcace"
      },
      "execution_count": 59,
      "outputs": [
        {
          "output_type": "stream",
          "name": "stderr",
          "text": [
            "WARNING:matplotlib.image:Clipping input data to the valid range for imshow with RGB data ([0..1] for floats or [0..255] for integers).\n"
          ]
        },
        {
          "output_type": "display_data",
          "data": {
            "text/plain": [
              "<Figure size 600x300 with 2 Axes>"
            ],
            "image/png": "[encoded data removed]"
          },
          "metadata": {}
        },
        {
          "output_type": "stream",
          "name": "stdout",
          "text": [
            "Original Label: 83\n",
            "Original Prediction: sweet_pepper\n",
            "Adversarial Prediction: worm\n",
            "Success Rate: 0.82\n"
          ]
        }
      ]
    },
    {
      "cell_type": "code",
      "source": [
        "import torch\n",
        "import torchattacks\n",
        "import numpy as np\n",
        "import matplotlib.pyplot as plt\n",
        "\n",
        "# Define the DeepFool attack\n",
        "attack_DeepFool = torchattacks.DeepFool(model)\n",
        "\n",
        "def get_prediction(image):\n",
        "    return torch.argmax(model(image.unsqueeze(0)))\n",
        "\n",
        "successful_attacks = 0\n",
        "total_samples = 100  # Use a subset of the dataset for speed\n",
        "\n",
        "for i in range(total_samples):\n",
        "    index_DeepFool = np.random.randint(0, len(test_dataset))\n",
        "    original_image_DeepFool, original_label_DeepFool = test_dataset[index_DeepFool]\n",
        "\n",
        "    # Ensure original_label is a PyTorch tensor\n",
        "    original_label_tensor_DeepFool = torch.tensor(original_label_DeepFool)\n",
        "\n",
        "    adv_images_DeepFool = attack_DeepFool(original_image_DeepFool.unsqueeze(0), original_label_tensor_DeepFool.unsqueeze(0))\n",
        "\n",
        "    # Predictions on original and adversarial images\n",
        "    original_prediction_DeepFool = get_prediction(original_image_DeepFool)\n",
        "    adversarial_prediction_DeepFool = get_prediction(adv_images_DeepFool.squeeze(0))\n",
        "\n",
        "    # Check if the predictions differ\n",
        "    if original_prediction_DeepFool != adversarial_prediction_DeepFool:\n",
        "        successful_attacks += 1\n",
        "    if i == 0:\n",
        "        fig, axs = plt.subplots(1, 2, figsize=(6, 3))\n",
        "\n",
        "        axs[0].imshow(np.transpose(original_image_DeepFool.squeeze().detach().cpu().numpy(), (1, 2, 0)))\n",
        "        axs[0].set_title(\"Original Image\")\n",
        "        axs[0].axis('off')\n",
        "\n",
        "        axs[1].imshow(np.transpose(adv_images_DeepFool.squeeze().detach().cpu().numpy(), (1, 2, 0)))\n",
        "        axs[1].set_title(\"Adversarial Image\")\n",
        "        axs[1].axis('off')\n",
        "\n",
        "        plt.show()\n",
        "        # Print the original and adversarial predictions\n",
        "        print(\"Original Label:\", original_label_DeepFool)\n",
        "        print(\"Original Prediction:\", classes[original_prediction_DeepFool.item()])\n",
        "        print(\"Adversarial Prediction:\", classes[adversarial_prediction_DeepFool.item()])\n",
        "\n",
        "# Calculate the success rate\n",
        "success_rate = successful_attacks / total_samples\n",
        "print(\"Success Rate:\", success_rate)\n"
      ],
      "metadata": {
        "colab": {
          "base_uri": "https://localhost:8080/",
          "height": 357
        },
        "id": "c_YcwBfdnFmE",
        "outputId": "6b3125c9-aba0-40ed-f8b6-0ac8d44c9766"
      },
      "execution_count": 60,
      "outputs": [
        {
          "output_type": "stream",
          "name": "stderr",
          "text": [
            "WARNING:matplotlib.image:Clipping input data to the valid range for imshow with RGB data ([0..1] for floats or [0..255] for integers).\n"
          ]
        },
        {
          "output_type": "display_data",
          "data": {
            "text/plain": [
              "<Figure size 600x300 with 2 Axes>"
            ],
            "image/png": "[encoded data removed]"
          },
          "metadata": {}
        },
        {
          "output_type": "stream",
          "name": "stdout",
          "text": [
            "Original Label: 82\n",
            "Original Prediction: sunflower\n",
            "Adversarial Prediction: tiger\n",
            "Success Rate: 0.33\n"
          ]
        }
      ]
    },
    {
      "cell_type": "code",
      "source": [
        "import torch\n",
        "import torchattacks\n",
        "import numpy as np\n",
        "import matplotlib.pyplot as plt\n",
        "\n",
        "# Define the PGDL2 attack\n",
        "attack_PGDL2 = torchattacks.PGDL2(model)\n",
        "\n",
        "# Function to get predictions\n",
        "def get_prediction(image):\n",
        "    return torch.argmax(model(image.unsqueeze(0)))\n",
        "\n",
        "# Variables to count successful attacks\n",
        "successful_attacks = 0\n",
        "total_samples = 100  # Use a subset of the dataset for speed\n",
        "\n",
        "for i in range(total_samples):\n",
        "    # Choose a random data point from the test dataset\n",
        "    index_PGDL2 = np.random.randint(0, len(test_dataset))\n",
        "    original_image_PGDL2, original_label_PGDL2 = test_dataset[index_PGDL2]\n",
        "\n",
        "    # Ensure original_label is a PyTorch tensor\n",
        "    original_label_tensor_PGDL2 = torch.tensor(original_label_PGDL2)\n",
        "\n",
        "    # Apply the PGDL2 attack to the original image\n",
        "    adv_images_PGDL2 = attack_PGDL2(original_image_PGDL2.unsqueeze(0), original_label_tensor_PGDL2.unsqueeze(0))\n",
        "\n",
        "    # Predictions on original and adversarial images\n",
        "    original_prediction_PGDL2 = get_prediction(original_image_PGDL2)\n",
        "    adversarial_prediction_PGDL2 = get_prediction(adv_images_PGDL2.squeeze(0))\n",
        "\n",
        "    # Check if the predictions differ\n",
        "    if original_prediction_PGDL2 != adversarial_prediction_PGDL2:\n",
        "        successful_attacks += 1\n",
        "\n",
        "    # Visualize the original image and adversarial image along with their predictions (for the first sample only)\n",
        "    if i == 0:\n",
        "        fig, axs = plt.subplots(1, 2, figsize=(6, 3))\n",
        "\n",
        "        # Original image\n",
        "        axs[0].imshow(np.transpose(original_image_PGDL2.squeeze().detach().cpu().numpy(), (1, 2, 0)))\n",
        "        axs[0].set_title(\"Original Image\")\n",
        "        axs[0].axis('off')\n",
        "\n",
        "        # Adversarial image\n",
        "        axs[1].imshow(np.transpose(adv_images_PGDL2.squeeze().detach().cpu().numpy(), (1, 2, 0)))\n",
        "        axs[1].set_title(\"Adversarial Image\")\n",
        "        axs[1].axis('off')\n",
        "\n",
        "        plt.show()\n",
        "\n",
        "        # Print the original and adversarial predictions\n",
        "        print(\"Original Label:\", original_label_PGDL2)\n",
        "        print(\"Original Prediction:\", classes[original_prediction_PGDL2.item()])\n",
        "        print(\"Adversarial Prediction:\", classes[adversarial_prediction_PGDL2.item()])\n",
        "\n",
        "# Calculate the success rate\n",
        "success_rate = successful_attacks / total_samples\n",
        "\n",
        "# Print the success rate\n",
        "print(\"Success Rate:\", success_rate)\n"
      ],
      "metadata": {
        "id": "ZZoyeTNjtNs1"
      },
      "execution_count": null,
      "outputs": []
    },
    {
      "cell_type": "code",
      "source": [
        "\n",
        "import torch\n",
        "import torchattacks\n",
        "import numpy as np\n",
        "import matplotlib.pyplot as plt\n",
        "\n",
        "# Define the OnePixel attack\n",
        "attack_OnePixel = torchattacks.OnePixel(model, pixels=5)\n",
        "\n",
        "# Function to get predictions\n",
        "def get_prediction(image):\n",
        "    return torch.argmax(model(image.unsqueeze(0)))\n",
        "\n",
        "# Variables to count successful attacks\n",
        "successful_attacks = 0\n",
        "total_samples = 100  # Use a subset of the dataset for speed\n",
        "\n",
        "for i in range(total_samples):\n",
        "    # Choose a random data point from the test dataset\n",
        "    index_OnePixel = np.random.randint(0, len(test_dataset))\n",
        "    original_image_OnePixel, original_label_OnePixel = test_dataset[index_OnePixel]\n",
        "\n",
        "    # Ensure original_label is a PyTorch tensor\n",
        "    original_label_tensor_OnePixel = torch.tensor(original_label_OnePixel)\n",
        "\n",
        "    # Apply the OnePixel attack to the original image\n",
        "    adv_images_OnePixel = attack_OnePixel(original_image_OnePixel.unsqueeze(0), original_label_tensor_OnePixel.unsqueeze(0))\n",
        "\n",
        "    # Predictions on original and adversarial images\n",
        "    original_prediction_OnePixel = get_prediction(original_image_OnePixel)\n",
        "    adversarial_prediction_OnePixel = get_prediction(adv_images_OnePixel.squeeze(0))\n",
        "\n",
        "    # Check if the predictions differ\n",
        "    if original_prediction_OnePixel != adversarial_prediction_OnePixel:\n",
        "        successful_attacks += 1\n",
        "\n",
        "    # Visualize the original image and adversarial image along with their predictions (for the first sample only)\n",
        "    if i == 0:\n",
        "        fig, axs = plt.subplots(1, 2, figsize=(6, 3))\n",
        "\n",
        "        # Original image\n",
        "        axs[0].imshow(np.transpose(original_image_OnePixel.squeeze().detach().cpu().numpy(), (1, 2, 0)))\n",
        "        axs[0].set_title(\"Original Image\")\n",
        "        axs[0].axis('off')\n",
        "\n",
        "        # Adversarial image\n",
        "        axs[1].imshow(np.transpose(adv_images_OnePixel.squeeze().detach().cpu().numpy(), (1, 2, 0)))\n",
        "        axs[1].set_title(\"Adversarial Image\")\n",
        "        axs[1].axis('off')\n",
        "\n",
        "        plt.show()\n",
        "\n",
        "        # Print the original and adversarial predictions\n",
        "        print(\"Original Label:\", original_label_OnePixel)\n",
        "        print(\"Original Prediction:\", classes[original_prediction_OnePixel.item()])\n",
        "        print(\"Adversarial Prediction:\", classes[adversarial_prediction_OnePixel.item()])\n",
        "\n",
        "# Calculate the success rate\n",
        "success_rate = successful_attacks / total_samples\n",
        "\n",
        "# Print the success rate\n",
        "print(\"Success Rate:\", success_rate)\n"
      ],
      "metadata": {
        "colab": {
          "base_uri": "https://localhost:8080/",
          "height": 374
        },
        "id": "Fd3_NXzBtOS5",
        "outputId": "4624a2bc-f78c-4b28-e662-abde166b4c8d"
      },
      "execution_count": 62,
      "outputs": [
        {
          "output_type": "stream",
          "name": "stderr",
          "text": [
            "WARNING:matplotlib.image:Clipping input data to the valid range for imshow with RGB data ([0..1] for floats or [0..255] for integers).\n",
            "WARNING:matplotlib.image:Clipping input data to the valid range for imshow with RGB data ([0..1] for floats or [0..255] for integers).\n"
          ]
        },
        {
          "output_type": "display_data",
          "data": {
            "text/plain": [
              "<Figure size 600x300 with 2 Axes>"
            ],
            "image/png": "[encoded data removed]"
          },
          "metadata": {}
        },
        {
          "output_type": "stream",
          "name": "stdout",
          "text": [
            "Original Label: 66\n",
            "Original Prediction: wolf\n",
            "Adversarial Prediction: wolf\n",
            "Success Rate: 0.4\n"
          ]
        }
      ]
    },
    {
      "cell_type": "code",
      "source": [
        "import torch\n",
        "import torchattacks\n",
        "import numpy as np\n",
        "import matplotlib.pyplot as plt\n",
        "\n",
        "# Define the SparseFool attack\n",
        "attack_SparseFool = torchattacks.SparseFool(model)\n",
        "\n",
        "# Function to get predictions\n",
        "def get_prediction(image):\n",
        "    return torch.argmax(model(image.unsqueeze(0)))\n",
        "\n",
        "# Variables to count successful attacks\n",
        "successful_attacks = 0\n",
        "total_samples = 100  # Use a subset of the dataset for speed\n",
        "\n",
        "for i in range(total_samples):\n",
        "    # Choose a random data point from the test dataset\n",
        "    index_SparseFool = np.random.randint(0, len(test_dataset))\n",
        "    original_image_SparseFool, original_label_SparseFool = test_dataset[index_SparseFool]\n",
        "\n",
        "    # Ensure original_label is a PyTorch tensor\n",
        "    original_label_tensor_SparseFool = torch.tensor(original_label_SparseFool)\n",
        "\n",
        "    # Apply the SparseFool attack to the original image\n",
        "    adv_images_SparseFool = attack_SparseFool(original_image_SparseFool.unsqueeze(0), original_label_tensor_SparseFool.unsqueeze(0))\n",
        "\n",
        "    # Predictions on original and adversarial images\n",
        "    original_prediction_SparseFool = get_prediction(original_image_SparseFool)\n",
        "    adversarial_prediction_SparseFool = get_prediction(adv_images_SparseFool.squeeze(0))\n",
        "\n",
        "    # Check if the predictions differ\n",
        "    if original_prediction_SparseFool != adversarial_prediction_SparseFool:\n",
        "        successful_attacks += 1\n",
        "\n",
        "    # Visualize the original image and adversarial image along with their predictions (for the first sample only)\n",
        "    if i == 0:\n",
        "        fig, axs = plt.subplots(1, 2, figsize=(6, 3))\n",
        "\n",
        "        # Original image\n",
        "        axs[0].imshow(np.transpose(original_image_SparseFool.squeeze().detach().cpu().numpy(), (1, 2, 0)))\n",
        "        axs[0].set_title(\"Original Image\")\n",
        "        axs[0].axis('off')\n",
        "\n",
        "        # Adversarial image\n",
        "        axs[1].imshow(np.transpose(adv_images_SparseFool.squeeze().detach().cpu().numpy(), (1, 2, 0)))\n",
        "        axs[1].set_title(\"Adversarial Image\")\n",
        "        axs[1].axis('off')\n",
        "\n",
        "        plt.show()\n",
        "\n",
        "        # Print the original and adversarial predictions\n",
        "        print(\"Original Label:\", original_label_SparseFool)\n",
        "        print(\"Original Prediction:\", classes[original_prediction_SparseFool.item()])\n",
        "        print(\"Adversarial Prediction:\", classes[adversarial_prediction_SparseFool.item()])\n",
        "\n",
        "# Calculate the success rate\n",
        "success_rate = successful_attacks / total_samples\n",
        "\n",
        "# Print the success rate\n",
        "print(\"Success Rate:\", success_rate)\n"
      ],
      "metadata": {
        "colab": {
          "base_uri": "https://localhost:8080/",
          "height": 357
        },
        "id": "IWVTHiGMtPP9",
        "outputId": "2e562078-7c75-4c38-b0ee-adfa787e7c3b"
      },
      "execution_count": 61,
      "outputs": [
        {
          "output_type": "stream",
          "name": "stderr",
          "text": [
            "WARNING:matplotlib.image:Clipping input data to the valid range for imshow with RGB data ([0..1] for floats or [0..255] for integers).\n"
          ]
        },
        {
          "output_type": "display_data",
          "data": {
            "text/plain": [
              "<Figure size 600x300 with 2 Axes>"
            ],
            "image/png": "[encoded data removed]"
          },
          "metadata": {}
        },
        {
          "output_type": "stream",
          "name": "stdout",
          "text": [
            "Original Label: 1\n",
            "Original Prediction: aquarium_fish\n",
            "Adversarial Prediction: lamp\n",
            "Success Rate: 0.4\n"
          ]
        }
      ]
    },
    {
      "cell_type": "code",
      "execution_count": 30,
      "metadata": {
        "colab": {
          "base_uri": "https://localhost:8080/",
          "height": 269
        },
        "id": "EVriXQF2NEFc",
        "outputId": "088853ab-ffb7-432a-ee2c-f46d834c54ff"
      },
      "outputs": [
        {
          "output_type": "stream",
          "name": "stdout",
          "text": [
            "Original Label: 88\n",
            "The image has likely been attacked by an adversarial perturbation.\n"
          ]
        },
        {
          "output_type": "stream",
          "name": "stderr",
          "text": [
            "WARNING:matplotlib.image:Clipping input data to the valid range for imshow with RGB data ([0..1] for floats or [0..255] for integers).\n"
          ]
        },
        {
          "output_type": "display_data",
          "data": {
            "text/plain": [
              "<Figure size 300x500 with 2 Axes>"
            ],
            "image/png": "[encoded data removed]"
          },
          "metadata": {}
        },
        {
          "output_type": "stream",
          "name": "stdout",
          "text": [
            "Original Prediction: tiger\n",
            "Adversarial Prediction: worm\n",
            "Success Rate: 0.0001\n"
          ]
        }
      ],
      "source": [
        "#PGDL2 Attack\n",
        "\n",
        "attack_PGDL2 = torchattacks.PGDL2(model, eps = 1, alpha = 0.2, steps = 10, random_start = True)\n",
        "# (model, eps = 1, alpha = 0.2, steps = 10, random_start = True, eps_for_division = 1e-10)\n",
        "\n",
        "# Choose a random data point from the test dataset\n",
        "index_PGDL2 = np.random.randint(0, len(test_dataset))\n",
        "original_image_PGDL2, original_label_PGDL2 = test_dataset[index_PGDL2]\n",
        "print(\"Original Label:\", original_label_PGDL2)\n",
        "\n",
        "# Ensure original_label is a PyTorch tensor\n",
        "original_label_tensor_PGDL2 = torch.tensor(original_label_PGDL2)\n",
        "\n",
        "# Apply the PGDL2 attack to the original image\n",
        "adv_images_PGDL2 = attack_PGDL2(original_image_PGDL2.unsqueeze(0), original_label_tensor_PGDL2.unsqueeze(0))\n",
        "\n",
        "# Predictions on original and adversarial images\n",
        "original_prediction_PGDL2 = torch.argmax(model(original_image_PGDL2.unsqueeze(0)))\n",
        "adversarial_prediction_PGDL2 = torch.argmax(model(adv_images_PGDL2))\n",
        "\n",
        "# Check if the predictions differ\n",
        "if original_prediction_PGDL2 != adversarial_prediction_PGDL2:\n",
        "    print(\"The image has likely been attacked by an adversarial perturbation.\")\n",
        "else:\n",
        "    print(\"The image has not been attacked by an adversarial perturbation.\")\n",
        "\n",
        "\n",
        "# Visualize the original image and adversarial image along with their predictions\n",
        "fig, axs = plt.subplots(1, 2, figsize=(3, 5))\n",
        "\n",
        "\n",
        "# Original image\n",
        "axs[0].imshow(np.transpose(original_image_PGDL2.squeeze().detach().cpu().numpy(), (1, 2, 0)))\n",
        "axs[0].set_title(\"Org Image\")\n",
        "axs[0].axis('off')\n",
        "\n",
        "# Adversarial image\n",
        "axs[1].imshow(np.transpose(adv_images_PGDL2.squeeze().detach().cpu().numpy(), (1, 2, 0)))\n",
        "axs[1].set_title(\"Adv Image\")\n",
        "axs[1].axis('off')\n",
        "\n",
        "plt.show()\n",
        "\n",
        "\n",
        "# Print the original and adversarial predictions\n",
        "print(\"Original Prediction:\", classes[original_prediction_PGDL2.item()])\n",
        "print(\"Adversarial Prediction:\", classes[adversarial_prediction_PGDL2.item()])\n",
        "\n",
        "\n",
        "# Check if the predictions differ\n",
        "\n",
        "# Initialize variables to count successful attacks\n",
        "successful_attacks = 0\n",
        "total_samples = len(test_dataset)\n",
        "\n",
        "if original_prediction_PGDL2 != adversarial_prediction_PGDL2:\n",
        "  successful_attacks += 1\n",
        "\n",
        "# Calculate the success rate\n",
        "success_rate = successful_attacks / total_samples\n",
        "\n",
        "# Print the success rate\n",
        "print(\"Success Rate:\", success_rate)\n",
        "\n"
      ]
    },
    {
      "cell_type": "code",
      "execution_count": 31,
      "metadata": {
        "colab": {
          "base_uri": "https://localhost:8080/",
          "height": 269
        },
        "id": "scpZzRWPTPHf",
        "outputId": "afb78273-0d3d-4142-e0ba-42f6b1b1e1c0"
      },
      "outputs": [
        {
          "output_type": "stream",
          "name": "stdout",
          "text": [
            "Original Label: 58\n",
            "The image has likely been attacked by an adversarial perturbation.\n"
          ]
        },
        {
          "output_type": "stream",
          "name": "stderr",
          "text": [
            "WARNING:matplotlib.image:Clipping input data to the valid range for imshow with RGB data ([0..1] for floats or [0..255] for integers).\n"
          ]
        },
        {
          "output_type": "display_data",
          "data": {
            "text/plain": [
              "<Figure size 300x500 with 2 Axes>"
            ],
            "image/png": "[encoded data removed]"
          },
          "metadata": {}
        },
        {
          "output_type": "stream",
          "name": "stdout",
          "text": [
            "Original Prediction: pickup_truck\n",
            "Adversarial Prediction: table\n",
            "Success Rate: 0.0001\n"
          ]
        }
      ],
      "source": [
        "# PGDRSL2 Attack\n",
        "\n",
        "attack_PGDRSL2 = torchattacks.PGDRSL2(model, eps = 1, steps = 10)\n",
        "# eps: float = 1, alpha: float = 0.2, steps: int = 10, noise_type: str = \"guassian\", noise_sd: float = 0.5, noise_batch_size: int = 5, batch_max: int = 2048, eps_for_division: float = 1e-10)\n",
        "\n",
        "# Choose a random data point from the test dataset\n",
        "index_PGDRSL2 = np.random.randint(0, len(test_dataset))\n",
        "original_image_PGDRSL2, original_label_PGDRSL2 = test_dataset[index_PGDRSL2]\n",
        "print(\"Original Label:\", original_label_PGDRSL2)\n",
        "\n",
        "# Ensure original_label is a PyTorch tensor\n",
        "original_label_tensor_PGDRSL2 = torch.tensor(original_label_PGDRSL2)\n",
        "\n",
        "# Apply the PGDRSL2 attack to the original image\n",
        "adv_images_PGDRSL2 = attack_PGDRSL2(original_image_PGDRSL2.unsqueeze(0), original_label_tensor_PGDRSL2.unsqueeze(0))\n",
        "\n",
        "# Predictions on original and adversarial images\n",
        "original_prediction_PGDRSL2 = torch.argmax(model(original_image_PGDRSL2.unsqueeze(0)))\n",
        "adversarial_prediction_PGDRSL2 = torch.argmax(model(adv_images_PGDRSL2))\n",
        "\n",
        "# Check if the predictions differ\n",
        "if original_prediction_PGDRSL2 != adversarial_prediction_PGDRSL2:\n",
        "    print(\"The image has likely been attacked by an adversarial perturbation.\")\n",
        "else:\n",
        "    print(\"The image has not been attacked by an adversarial perturbation.\")\n",
        "\n",
        "\n",
        "# Visualize the original image and adversarial image along with their predictions\n",
        "fig, axs = plt.subplots(1, 2, figsize=(3, 5))\n",
        "\n",
        "\n",
        "# Original image\n",
        "axs[0].imshow(np.transpose(original_image_PGDRSL2.squeeze().detach().cpu().numpy(), (1, 2, 0)))\n",
        "axs[0].set_title(\"Org Image\")\n",
        "axs[0].axis('off')\n",
        "\n",
        "# Adversarial image\n",
        "axs[1].imshow(np.transpose(adv_images_PGDRSL2.squeeze().detach().cpu().numpy(), (1, 2, 0)))\n",
        "axs[1].set_title(\"Adv Image\")\n",
        "axs[1].axis('off')\n",
        "\n",
        "plt.show()\n",
        "\n",
        "\n",
        "# Print the original and adversarial predictions\n",
        "print(\"Original Prediction:\", classes[original_prediction_PGDRSL2.item()])\n",
        "print(\"Adversarial Prediction:\", classes[adversarial_prediction_PGDRSL2.item()])\n",
        "\n",
        "\n",
        "# Check if the predictions differ\n",
        "\n",
        "# Initialize variables to count successful attacks\n",
        "successful_attacks = 0\n",
        "total_samples = len(test_dataset)\n",
        "\n",
        "if original_prediction_PGDRSL2 != adversarial_prediction_PGDRSL2:\n",
        "  successful_attacks += 1\n",
        "\n",
        "# Calculate the success rate\n",
        "success_rate = successful_attacks / total_samples\n",
        "\n",
        "# Print the success rate\n",
        "print(\"Success Rate:\", success_rate)"
      ]
    },
    {
      "cell_type": "code",
      "execution_count": 33,
      "metadata": {
        "colab": {
          "base_uri": "https://localhost:8080/",
          "height": 287
        },
        "id": "e1QYgtTVTaDR",
        "outputId": "6705251d-f76d-4447-a12e-e4255967b33e"
      },
      "outputs": [
        {
          "output_type": "stream",
          "name": "stdout",
          "text": [
            "Original Label: 31\n",
            "The image has not been attacked by an adversarial perturbation.\n"
          ]
        },
        {
          "output_type": "stream",
          "name": "stderr",
          "text": [
            "WARNING:matplotlib.image:Clipping input data to the valid range for imshow with RGB data ([0..1] for floats or [0..255] for integers).\n",
            "WARNING:matplotlib.image:Clipping input data to the valid range for imshow with RGB data ([0..1] for floats or [0..255] for integers).\n"
          ]
        },
        {
          "output_type": "display_data",
          "data": {
            "text/plain": [
              "<Figure size 300x500 with 2 Axes>"
            ],
            "image/png": "[encoded data removed]"
          },
          "metadata": {}
        },
        {
          "output_type": "stream",
          "name": "stdout",
          "text": [
            "Original Prediction: bear\n",
            "Adversarial Prediction: bear\n",
            "Success Rate: 0.0\n"
          ]
        }
      ],
      "source": [
        "# SparseFool Attack\n",
        "\n",
        "attack_SparseFool = torchattacks.SparseFool(model)\n",
        "\n",
        "# Choose a random data point from the test dataset\n",
        "index_SparseFool = np.random.randint(0, len(test_dataset))\n",
        "original_image_SparseFool, original_label_SparseFool = test_dataset[index_SparseFool]\n",
        "print(\"Original Label:\", original_label_SparseFool)\n",
        "\n",
        "# Ensure original_label is a PyTorch tensor\n",
        "original_label_tensor_SparseFool = torch.tensor(original_label_SparseFool)\n",
        "\n",
        "# Apply the SparseFool attack to the original image\n",
        "adv_images_SparseFool = attack_SparseFool(original_image_SparseFool.unsqueeze(0), original_label_tensor_SparseFool.unsqueeze(0))\n",
        "\n",
        "# Predictions on original and adversarial images\n",
        "original_prediction_SparseFool = torch.argmax(model(original_image_SparseFool.unsqueeze(0)))\n",
        "adversarial_prediction_SparseFool = torch.argmax(model(adv_images_SparseFool))\n",
        "\n",
        "# Check if the predictions differ\n",
        "if original_prediction_SparseFool!= adversarial_prediction_SparseFool:\n",
        "    print(\"The image has likely been attacked by an adversarial perturbation.\")\n",
        "else:\n",
        "    print(\"The image has not been attacked by an adversarial perturbation.\")\n",
        "\n",
        "\n",
        "# Visualize the original image and adversarial image along with their predictions\n",
        "fig, axs = plt.subplots(1, 2, figsize=(3, 5))\n",
        "\n",
        "\n",
        "# Original image\n",
        "axs[0].imshow(np.transpose(original_image_SparseFool.squeeze().detach().cpu().numpy(), (1, 2, 0)))\n",
        "axs[0].set_title(\"Org Image\")\n",
        "axs[0].axis('off')\n",
        "\n",
        "# Adversarial image\n",
        "axs[1].imshow(np.transpose(adv_images_SparseFool.squeeze().detach().cpu().numpy(), (1, 2, 0)))\n",
        "axs[1].set_title(\"Adv Image\")\n",
        "axs[1].axis('off')\n",
        "\n",
        "plt.show()\n",
        "\n",
        "\n",
        "# Print the original and adversarial predictions\n",
        "print(\"Original Prediction:\", classes[original_prediction_SparseFool.item()])\n",
        "print(\"Adversarial Prediction:\", classes[adversarial_prediction_SparseFool.item()])\n",
        "\n",
        "\n",
        "# Check if the predictions differ\n",
        "\n",
        "# Initialize variables to count successful attacks\n",
        "successful_attacks = 0\n",
        "total_samples = len(test_dataset)\n",
        "\n",
        "if original_prediction_SparseFool != adversarial_prediction_SparseFool:\n",
        "  successful_attacks += 1\n",
        "\n",
        "# Calculate the success rate\n",
        "success_rate = successful_attacks / total_samples\n",
        "\n",
        "# Print the success rate\n",
        "print(\"Success Rate:\", success_rate)"
      ]
    },
    {
      "cell_type": "code",
      "execution_count": 34,
      "metadata": {
        "colab": {
          "base_uri": "https://localhost:8080/",
          "height": 287
        },
        "id": "faIXtTB3TfYx",
        "outputId": "4947e34b-3faa-45fb-c8a8-db57bde3d967"
      },
      "outputs": [
        {
          "output_type": "stream",
          "name": "stdout",
          "text": [
            "Original Label: 26\n"
          ]
        },
        {
          "output_type": "stream",
          "name": "stderr",
          "text": [
            "WARNING:matplotlib.image:Clipping input data to the valid range for imshow with RGB data ([0..1] for floats or [0..255] for integers).\n",
            "WARNING:matplotlib.image:Clipping input data to the valid range for imshow with RGB data ([0..1] for floats or [0..255] for integers).\n"
          ]
        },
        {
          "output_type": "stream",
          "name": "stdout",
          "text": [
            "The image has likely been attacked by an adversarial perturbation.\n"
          ]
        },
        {
          "output_type": "display_data",
          "data": {
            "text/plain": [
              "<Figure size 300x500 with 2 Axes>"
            ],
            "image/png": "[encoded data removed]"
          },
          "metadata": {}
        },
        {
          "output_type": "stream",
          "name": "stdout",
          "text": [
            "Original Prediction: crab\n",
            "Adversarial Prediction: snake\n",
            "Success Rate: 0.0001\n"
          ]
        }
      ],
      "source": [
        "# OnePixel Attack\n",
        "\n",
        "attack_OnePixel = torchattacks.OnePixel(model, pixels = 1, steps = 10, popsize = 10, inf_batch = 128)\n",
        "\n",
        "# Choose a random data point from the test dataset\n",
        "index_OnePixel = np.random.randint(0, len(test_dataset))\n",
        "original_image_OnePixel, original_label_OnePixel = test_dataset[index_OnePixel]\n",
        "print(\"Original Label:\", original_label_OnePixel)\n",
        "\n",
        "# Ensure original_label is a PyTorch tensor\n",
        "original_label_tensor_OnePixel = torch.tensor(original_label_OnePixel)\n",
        "\n",
        "# Apply the OnePixel attack to the original image\n",
        "adv_images_OnePixel = attack_OnePixel(original_image_OnePixel.unsqueeze(0), original_label_tensor_OnePixel.unsqueeze(0))\n",
        "\n",
        "# Predictions on original and adversarial images\n",
        "original_prediction_OnePixel = torch.argmax(model(original_image_OnePixel.unsqueeze(0)))\n",
        "adversarial_prediction_OnePixel = torch.argmax(model(adv_images_OnePixel))\n",
        "\n",
        "# Check if the predictions differ\n",
        "if original_prediction_OnePixel != adversarial_prediction_OnePixel:\n",
        "    print(\"The image has likely been attacked by an adversarial perturbation.\")\n",
        "else:\n",
        "    print(\"The image has not been attacked by an adversarial perturbation.\")\n",
        "\n",
        "\n",
        "# Visualize the original image and adversarial image along with their predictions\n",
        "fig, axs = plt.subplots(1, 2, figsize=(3, 5))\n",
        "\n",
        "\n",
        "# Original image\n",
        "axs[0].imshow(np.transpose(original_image_OnePixel.squeeze().detach().cpu().numpy(), (1, 2, 0)))\n",
        "axs[0].set_title(\"Org Image\")\n",
        "axs[0].axis('off')\n",
        "\n",
        "# Adversarial image\n",
        "axs[1].imshow(np.transpose(adv_images_OnePixel.squeeze().detach().cpu().numpy(), (1, 2, 0)))\n",
        "axs[1].set_title(\"Adv Image\")\n",
        "axs[1].axis('off')\n",
        "\n",
        "plt.show()\n",
        "\n",
        "\n",
        "# Print the original and adversarial predictions\n",
        "print(\"Original Prediction:\", classes[original_prediction_OnePixel.item()])\n",
        "print(\"Adversarial Prediction:\", classes[adversarial_prediction_OnePixel.item()])\n",
        "\n",
        "\n",
        "# Check if the predictions differ\n",
        "\n",
        "# Initialize variables to count successful attacks\n",
        "successful_attacks = 0\n",
        "total_samples = len(test_dataset)\n",
        "\n",
        "if original_prediction_OnePixel != adversarial_prediction_OnePixel:\n",
        "  successful_attacks += 1\n",
        "\n",
        "# Calculate the success rate\n",
        "success_rate = successful_attacks / total_samples\n",
        "\n",
        "# Print the success rate\n",
        "print(\"Success Rate:\", success_rate)\n"
      ]
    },
    {
      "cell_type": "code",
      "execution_count": 35,
      "metadata": {
        "colab": {
          "base_uri": "https://localhost:8080/",
          "height": 287
        },
        "id": "k1VltySDTi-p",
        "outputId": "d61251aa-9797-4040-caa8-cce5ce4e0566"
      },
      "outputs": [
        {
          "output_type": "stream",
          "name": "stdout",
          "text": [
            "Original Label: 93\n",
            "The image has not been attacked by an adversarial perturbation.\n"
          ]
        },
        {
          "output_type": "stream",
          "name": "stderr",
          "text": [
            "WARNING:matplotlib.image:Clipping input data to the valid range for imshow with RGB data ([0..1] for floats or [0..255] for integers).\n",
            "WARNING:matplotlib.image:Clipping input data to the valid range for imshow with RGB data ([0..1] for floats or [0..255] for integers).\n"
          ]
        },
        {
          "output_type": "display_data",
          "data": {
            "text/plain": [
              "<Figure size 300x500 with 2 Axes>"
            ],
            "image/png": "[encoded data removed]"
          },
          "metadata": {}
        },
        {
          "output_type": "stream",
          "name": "stdout",
          "text": [
            "Original Prediction: bowl\n",
            "Adversarial Prediction: bowl\n",
            "Success Rate: 0.0\n"
          ]
        }
      ],
      "source": [
        "# Pixle Attack\n",
        "\n",
        "attack_Pixle = torchattacks.Pixle(model, restarts = 20, max_iterations = 10 )\n",
        "# (model, x_dimensions: Any = (2, 10), y_dimensions: Any = (2, 10), pixel_mapping: str = \"random\", restarts: int = 20, max_iterations: int = 10, update_each_iteration: bool = False)\n",
        "\n",
        "# Choose a random data point from the test dataset\n",
        "index_Pixle = np.random.randint(0, len(test_dataset))\n",
        "original_image_Pixle, original_label_Pixle = test_dataset[index_Pixle]\n",
        "print(\"Original Label:\", original_label_Pixle)\n",
        "\n",
        "# Ensure original_label is a PyTorch tensor\n",
        "original_label_tensor_Pixle = torch.tensor(original_label_Pixle)\n",
        "\n",
        "# Apply the Pixle attack to the original image\n",
        "adv_images_Pixle = attack_Pixle(original_image_Pixle.unsqueeze(0), original_label_tensor_Pixle.unsqueeze(0))\n",
        "\n",
        "# Predictions on original and adversarial images\n",
        "original_prediction_Pixle = torch.argmax(model(original_image_Pixle.unsqueeze(0)))\n",
        "adversarial_prediction_Pixle = torch.argmax(model(adv_images_Pixle))\n",
        "\n",
        "# Check if the predictions differ\n",
        "if original_prediction_Pixle != adversarial_prediction_Pixle:\n",
        "    print(\"The image has likely been attacked by an adversarial perturbation.\")\n",
        "else:\n",
        "    print(\"The image has not been attacked by an adversarial perturbation.\")\n",
        "\n",
        "\n",
        "# Visualize the original image and adversarial image along with their predictions\n",
        "fig, axs = plt.subplots(1, 2, figsize=(3, 5))\n",
        "\n",
        "\n",
        "# Original image\n",
        "axs[0].imshow(np.transpose(original_image_Pixle.squeeze().detach().cpu().numpy(), (1, 2, 0)))\n",
        "axs[0].set_title(\"Org Image\")\n",
        "axs[0].axis('off')\n",
        "\n",
        "# Adversarial image\n",
        "axs[1].imshow(np.transpose(adv_images_Pixle.squeeze().detach().cpu().numpy(), (1, 2, 0)))\n",
        "axs[1].set_title(\"Adv Image\")\n",
        "axs[1].axis('off')\n",
        "\n",
        "plt.show()\n",
        "\n",
        "\n",
        "# Print the original and adversarial predictions\n",
        "print(\"Original Prediction:\", classes[original_prediction_Pixle.item()])\n",
        "print(\"Adversarial Prediction:\", classes[adversarial_prediction_Pixle.item()])\n",
        "\n",
        "\n",
        "# Check if the predictions differ\n",
        "\n",
        "# Initialize variables to count successful attacks\n",
        "successful_attacks = 0\n",
        "total_samples = len(test_dataset)\n",
        "\n",
        "if original_prediction_Pixle != adversarial_prediction_Pixle:\n",
        "  successful_attacks += 1\n",
        "\n",
        "# Calculate the success rate\n",
        "success_rate = successful_attacks / total_samples\n",
        "\n",
        "# Print the success rate\n",
        "print(\"Success Rate:\", success_rate)\n"
      ]
    },
    {
      "cell_type": "code",
      "execution_count": 36,
      "metadata": {
        "colab": {
          "base_uri": "https://localhost:8080/",
          "height": 287
        },
        "id": "ZdmH0R7TTmm2",
        "outputId": "a66f2a42-c4cd-407a-f0a1-6f7460ebed95"
      },
      "outputs": [
        {
          "output_type": "stream",
          "name": "stdout",
          "text": [
            "Original Label: 16\n"
          ]
        },
        {
          "output_type": "stream",
          "name": "stderr",
          "text": [
            "WARNING:matplotlib.image:Clipping input data to the valid range for imshow with RGB data ([0..1] for floats or [0..255] for integers).\n",
            "WARNING:matplotlib.image:Clipping input data to the valid range for imshow with RGB data ([0..1] for floats or [0..255] for integers).\n"
          ]
        },
        {
          "output_type": "stream",
          "name": "stdout",
          "text": [
            "The image has not been attacked by an adversarial perturbation.\n"
          ]
        },
        {
          "output_type": "display_data",
          "data": {
            "text/plain": [
              "<Figure size 300x500 with 2 Axes>"
            ],
            "image/png": "[encoded data removed]"
          },
          "metadata": {}
        },
        {
          "output_type": "stream",
          "name": "stdout",
          "text": [
            "Original Prediction: clock\n",
            "Adversarial Prediction: clock\n",
            "Success Rate: 0.0\n"
          ]
        }
      ],
      "source": [
        "# FAB Attack\n",
        "\n",
        "attack_FAB = torchattacks.FAB(model, eps = 8 / 255, steps = 10, seed = 0 )\n",
        "\n",
        "# Choose a random data point from the test dataset\n",
        "index_FAB = np.random.randint(0, len(test_dataset))\n",
        "original_image_FAB, original_label_FAB = test_dataset[index_FAB]\n",
        "print(\"Original Label:\", original_label_FAB)\n",
        "\n",
        "# Ensure original_label is a PyTorch tensor\n",
        "original_label_tensor_FAB = torch.tensor(original_label_FAB)\n",
        "\n",
        "# Apply the FAB attack to the original image\n",
        "adv_images_FAB = attack_FAB(original_image_FAB.unsqueeze(0), original_label_tensor_FAB.unsqueeze(0))\n",
        "\n",
        "# Predictions on original and adversarial images\n",
        "original_prediction_FAB = torch.argmax(model(original_image_FAB.unsqueeze(0)))\n",
        "adversarial_prediction_FAB = torch.argmax(model(adv_images_FAB))\n",
        "\n",
        "# Check if the predictions differ\n",
        "if original_prediction_FAB != adversarial_prediction_FAB:\n",
        "    print(\"The image has likely been attacked by an adversarial perturbation.\")\n",
        "else:\n",
        "    print(\"The image has not been attacked by an adversarial perturbation.\")\n",
        "\n",
        "\n",
        "# Visualize the original image and adversarial image along with their predictions\n",
        "fig, axs = plt.subplots(1, 2, figsize=(3, 5))\n",
        "\n",
        "\n",
        "# Original image\n",
        "axs[0].imshow(np.transpose(original_image_FAB.squeeze().detach().cpu().numpy(), (1, 2, 0)))\n",
        "axs[0].set_title(\"Org Image\")\n",
        "axs[0].axis('off')\n",
        "\n",
        "# Adversarial image\n",
        "axs[1].imshow(np.transpose(adv_images_FAB.squeeze().detach().cpu().numpy(), (1, 2, 0)))\n",
        "axs[1].set_title(\"Adv Image\")\n",
        "axs[1].axis('off')\n",
        "\n",
        "plt.show()\n",
        "\n",
        "\n",
        "# Print the original and adversarial predictions\n",
        "print(\"Original Prediction:\", classes[original_prediction_FAB.item()])\n",
        "print(\"Adversarial Prediction:\", classes[adversarial_prediction_FAB.item()])\n",
        "\n",
        "\n",
        "# Check if the predictions differ\n",
        "\n",
        "# Initialize variables to count successful attacks\n",
        "successful_attacks = 0\n",
        "total_samples = len(test_dataset)\n",
        "\n",
        "if original_prediction_FAB != adversarial_prediction_FAB:\n",
        "  successful_attacks += 1\n",
        "\n",
        "# Calculate the success rate\n",
        "success_rate = successful_attacks / total_samples\n",
        "\n",
        "# Print the success rate\n",
        "print(\"Success Rate:\", success_rate)\n"
      ]
    }
  ],
  "metadata": {
    "colab": {
      "provenance": []
    },
    "kernelspec": {
      "display_name": "Python 3",
      "name": "python3"
    },
    "language_info": {
      "name": "python"
    }
  },
  "nbformat": 4,
  "nbformat_minor": 0
}