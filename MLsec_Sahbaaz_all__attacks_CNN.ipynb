{
  "nbformat": 4,
  "nbformat_minor": 0,
  "metadata": {
    "colab": {
      "provenance": []
    },
    "kernelspec": {
      "name": "python3",
      "display_name": "Python 3"
    },
    "language_info": {
      "name": "python"
    }
  },
  "cells": [
    {
      "cell_type": "code",
      "execution_count": null,
      "metadata": {
        "colab": {
          "base_uri": "https://localhost:8080/"
        },
        "id": "fsqId2ajFdLI",
        "outputId": "23a777d2-4d4d-42eb-8a8b-8f36ecddddcf"
      },
      "outputs": [
        {
          "output_type": "stream",
          "name": "stdout",
          "text": [
            "Collecting torchattacks\n",
            "  Downloading torchattacks-3.5.1-py3-none-any.whl (142 kB)\n",
            "\u001b[2K     \u001b[90m━━━━━━━━━━━━━━━━━━━━━━━━━━━━━━━━━━━━━━━━\u001b[0m \u001b[32m142.0/142.0 kB\u001b[0m \u001b[31m1.4 MB/s\u001b[0m eta \u001b[36m0:00:00\u001b[0m\n",
            "\u001b[?25hRequirement already satisfied: torch>=1.7.1 in /usr/local/lib/python3.10/dist-packages (from torchattacks) (2.3.0+cu121)\n",
            "Requirement already satisfied: torchvision>=0.8.2 in /usr/local/lib/python3.10/dist-packages (from torchattacks) (0.18.0+cu121)\n",
            "Requirement already satisfied: scipy>=0.14.0 in /usr/local/lib/python3.10/dist-packages (from torchattacks) (1.11.4)\n",
            "Requirement already satisfied: tqdm>=4.56.1 in /usr/local/lib/python3.10/dist-packages (from torchattacks) (4.66.4)\n",
            "Collecting requests~=2.25.1 (from torchattacks)\n",
            "  Downloading requests-2.25.1-py2.py3-none-any.whl (61 kB)\n",
            "\u001b[2K     \u001b[90m━━━━━━━━━━━━━━━━━━━━━━━━━━━━━━━━━━━━━━━━\u001b[0m \u001b[32m61.2/61.2 kB\u001b[0m \u001b[31m5.4 MB/s\u001b[0m eta \u001b[36m0:00:00\u001b[0m\n",
            "\u001b[?25hRequirement already satisfied: numpy>=1.19.4 in /usr/local/lib/python3.10/dist-packages (from torchattacks) (1.25.2)\n",
            "Collecting chardet<5,>=3.0.2 (from requests~=2.25.1->torchattacks)\n",
            "  Downloading chardet-4.0.0-py2.py3-none-any.whl (178 kB)\n",
            "\u001b[2K     \u001b[90m━━━━━━━━━━━━━━━━━━━━━━━━━━━━━━━━━━━━━━━━\u001b[0m \u001b[32m178.7/178.7 kB\u001b[0m \u001b[31m3.9 MB/s\u001b[0m eta \u001b[36m0:00:00\u001b[0m\n",
            "\u001b[?25hCollecting idna<3,>=2.5 (from requests~=2.25.1->torchattacks)\n",
            "  Downloading idna-2.10-py2.py3-none-any.whl (58 kB)\n",
            "\u001b[2K     \u001b[90m━━━━━━━━━━━━━━━━━━━━━━━━━━━━━━━━━━━━━━━━\u001b[0m \u001b[32m58.8/58.8 kB\u001b[0m \u001b[31m7.2 MB/s\u001b[0m eta \u001b[36m0:00:00\u001b[0m\n",
            "\u001b[?25hCollecting urllib3<1.27,>=1.21.1 (from requests~=2.25.1->torchattacks)\n",
            "  Downloading urllib3-1.26.18-py2.py3-none-any.whl (143 kB)\n",
            "\u001b[2K     \u001b[90m━━━━━━━━━━━━━━━━━━━━━━━━━━━━━━━━━━━━━━━━\u001b[0m \u001b[32m143.8/143.8 kB\u001b[0m \u001b[31m15.2 MB/s\u001b[0m eta \u001b[36m0:00:00\u001b[0m\n",
            "\u001b[?25hRequirement already satisfied: certifi>=2017.4.17 in /usr/local/lib/python3.10/dist-packages (from requests~=2.25.1->torchattacks) (2024.2.2)\n",
            "Requirement already satisfied: filelock in /usr/local/lib/python3.10/dist-packages (from torch>=1.7.1->torchattacks) (3.14.0)\n",
            "Requirement already satisfied: typing-extensions>=4.8.0 in /usr/local/lib/python3.10/dist-packages (from torch>=1.7.1->torchattacks) (4.11.0)\n",
            "Requirement already satisfied: sympy in /usr/local/lib/python3.10/dist-packages (from torch>=1.7.1->torchattacks) (1.12)\n",
            "Requirement already satisfied: networkx in /usr/local/lib/python3.10/dist-packages (from torch>=1.7.1->torchattacks) (3.3)\n",
            "Requirement already satisfied: jinja2 in /usr/local/lib/python3.10/dist-packages (from torch>=1.7.1->torchattacks) (3.1.4)\n",
            "Requirement already satisfied: fsspec in /usr/local/lib/python3.10/dist-packages (from torch>=1.7.1->torchattacks) (2023.6.0)\n",
            "Collecting nvidia-cuda-nvrtc-cu12==12.1.105 (from torch>=1.7.1->torchattacks)\n",
            "  Using cached nvidia_cuda_nvrtc_cu12-12.1.105-py3-none-manylinux1_x86_64.whl (23.7 MB)\n",
            "Collecting nvidia-cuda-runtime-cu12==12.1.105 (from torch>=1.7.1->torchattacks)\n",
            "  Using cached nvidia_cuda_runtime_cu12-12.1.105-py3-none-manylinux1_x86_64.whl (823 kB)\n",
            "Collecting nvidia-cuda-cupti-cu12==12.1.105 (from torch>=1.7.1->torchattacks)\n",
            "  Using cached nvidia_cuda_cupti_cu12-12.1.105-py3-none-manylinux1_x86_64.whl (14.1 MB)\n",
            "Collecting nvidia-cudnn-cu12==8.9.2.26 (from torch>=1.7.1->torchattacks)\n",
            "  Using cached nvidia_cudnn_cu12-8.9.2.26-py3-none-manylinux1_x86_64.whl (731.7 MB)\n",
            "Collecting nvidia-cublas-cu12==12.1.3.1 (from torch>=1.7.1->torchattacks)\n",
            "  Using cached nvidia_cublas_cu12-12.1.3.1-py3-none-manylinux1_x86_64.whl (410.6 MB)\n",
            "Collecting nvidia-cufft-cu12==11.0.2.54 (from torch>=1.7.1->torchattacks)\n",
            "  Using cached nvidia_cufft_cu12-11.0.2.54-py3-none-manylinux1_x86_64.whl (121.6 MB)\n",
            "Collecting nvidia-curand-cu12==10.3.2.106 (from torch>=1.7.1->torchattacks)\n",
            "  Using cached nvidia_curand_cu12-10.3.2.106-py3-none-manylinux1_x86_64.whl (56.5 MB)\n",
            "Collecting nvidia-cusolver-cu12==11.4.5.107 (from torch>=1.7.1->torchattacks)\n",
            "  Using cached nvidia_cusolver_cu12-11.4.5.107-py3-none-manylinux1_x86_64.whl (124.2 MB)\n",
            "Collecting nvidia-cusparse-cu12==12.1.0.106 (from torch>=1.7.1->torchattacks)\n",
            "  Using cached nvidia_cusparse_cu12-12.1.0.106-py3-none-manylinux1_x86_64.whl (196.0 MB)\n",
            "Collecting nvidia-nccl-cu12==2.20.5 (from torch>=1.7.1->torchattacks)\n",
            "  Using cached nvidia_nccl_cu12-2.20.5-py3-none-manylinux2014_x86_64.whl (176.2 MB)\n",
            "Collecting nvidia-nvtx-cu12==12.1.105 (from torch>=1.7.1->torchattacks)\n",
            "  Using cached nvidia_nvtx_cu12-12.1.105-py3-none-manylinux1_x86_64.whl (99 kB)\n",
            "Requirement already satisfied: triton==2.3.0 in /usr/local/lib/python3.10/dist-packages (from torch>=1.7.1->torchattacks) (2.3.0)\n",
            "Collecting nvidia-nvjitlink-cu12 (from nvidia-cusolver-cu12==11.4.5.107->torch>=1.7.1->torchattacks)\n",
            "  Downloading nvidia_nvjitlink_cu12-12.5.40-py3-none-manylinux2014_x86_64.whl (21.3 MB)\n",
            "\u001b[2K     \u001b[90m━━━━━━━━━━━━━━━━━━━━━━━━━━━━━━━━━━━━━━━━\u001b[0m \u001b[32m21.3/21.3 MB\u001b[0m \u001b[31m38.3 MB/s\u001b[0m eta \u001b[36m0:00:00\u001b[0m\n",
            "\u001b[?25hRequirement already satisfied: pillow!=8.3.*,>=5.3.0 in /usr/local/lib/python3.10/dist-packages (from torchvision>=0.8.2->torchattacks) (9.4.0)\n",
            "Requirement already satisfied: MarkupSafe>=2.0 in /usr/local/lib/python3.10/dist-packages (from jinja2->torch>=1.7.1->torchattacks) (2.1.5)\n",
            "Requirement already satisfied: mpmath>=0.19 in /usr/local/lib/python3.10/dist-packages (from sympy->torch>=1.7.1->torchattacks) (1.3.0)\n",
            "Installing collected packages: urllib3, nvidia-nvtx-cu12, nvidia-nvjitlink-cu12, nvidia-nccl-cu12, nvidia-curand-cu12, nvidia-cufft-cu12, nvidia-cuda-runtime-cu12, nvidia-cuda-nvrtc-cu12, nvidia-cuda-cupti-cu12, nvidia-cublas-cu12, idna, chardet, requests, nvidia-cusparse-cu12, nvidia-cudnn-cu12, nvidia-cusolver-cu12, torchattacks\n",
            "  Attempting uninstall: urllib3\n",
            "    Found existing installation: urllib3 2.0.7\n",
            "    Uninstalling urllib3-2.0.7:\n",
            "      Successfully uninstalled urllib3-2.0.7\n",
            "  Attempting uninstall: idna\n",
            "    Found existing installation: idna 3.7\n",
            "    Uninstalling idna-3.7:\n",
            "      Successfully uninstalled idna-3.7\n",
            "  Attempting uninstall: chardet\n",
            "    Found existing installation: chardet 5.2.0\n",
            "    Uninstalling chardet-5.2.0:\n",
            "      Successfully uninstalled chardet-5.2.0\n",
            "  Attempting uninstall: requests\n",
            "    Found existing installation: requests 2.31.0\n",
            "    Uninstalling requests-2.31.0:\n",
            "      Successfully uninstalled requests-2.31.0\n",
            "\u001b[31mERROR: pip's dependency resolver does not currently take into account all the packages that are installed. This behaviour is the source of the following dependency conflicts.\n",
            "bigframes 1.6.0 requires requests>=2.27.1, but you have requests 2.25.1 which is incompatible.\n",
            "google-colab 1.0.0 requires requests==2.31.0, but you have requests 2.25.1 which is incompatible.\n",
            "tweepy 4.14.0 requires requests<3,>=2.27.0, but you have requests 2.25.1 which is incompatible.\n",
            "yfinance 0.2.40 requires requests>=2.31, but you have requests 2.25.1 which is incompatible.\u001b[0m\u001b[31m\n",
            "\u001b[0mSuccessfully installed chardet-4.0.0 idna-2.10 nvidia-cublas-cu12-12.1.3.1 nvidia-cuda-cupti-cu12-12.1.105 nvidia-cuda-nvrtc-cu12-12.1.105 nvidia-cuda-runtime-cu12-12.1.105 nvidia-cudnn-cu12-8.9.2.26 nvidia-cufft-cu12-11.0.2.54 nvidia-curand-cu12-10.3.2.106 nvidia-cusolver-cu12-11.4.5.107 nvidia-cusparse-cu12-12.1.0.106 nvidia-nccl-cu12-2.20.5 nvidia-nvjitlink-cu12-12.5.40 nvidia-nvtx-cu12-12.1.105 requests-2.25.1 torchattacks-3.5.1 urllib3-1.26.18\n"
          ]
        }
      ],
      "source": [
        "!pip install torchattacks"
      ]
    },
    {
      "cell_type": "code",
      "source": [
        "import torch\n",
        "import torch.nn as nn\n",
        "import torch.optim as optim\n",
        "import torchvision\n",
        "import torchvision.transforms as transforms\n",
        "import numpy as np\n",
        "import matplotlib.pyplot as plt\n",
        "from torch.utils.data import DataLoader\n",
        "import torchattacks\n",
        "\n",
        "\n",
        "transform = transforms.Compose([transforms.ToTensor(),\n",
        "                                transforms.Normalize((0.5, 0.5, 0.5),\n",
        "                                 (0.5, 0.5, 0.5))])\n",
        "\n",
        "batch_size=64;\n",
        "\n",
        "\n",
        "train_dataset = torchvision.datasets.CIFAR10(root='./data', train=True,\n",
        "                                             download=True, transform=transform)\n",
        "\n",
        "val_dataset = torchvision.datasets.CIFAR10(root='./data', train=False,\n",
        "                                           download=True, transform=transform)\n",
        "\n",
        "test_dataset = torchvision.datasets.CIFAR10(root='./data', train=False,\n",
        "                                            download=True, transform=transform)\n",
        "\n",
        "train_loader = DataLoader(train_dataset, batch_size=batch_size, shuffle=True)\n",
        "val_loader = DataLoader(val_dataset, batch_size=batch_size, shuffle=False)\n",
        "test_loader = torch.utils.data.DataLoader(test_dataset, batch_size=batch_size, shuffle=True)\n",
        "\n",
        "\n",
        "classes = ('plane', 'car', 'bird', 'cat',\n",
        "           'deer', 'dog', 'frog', 'horse', 'ship', 'truck')\n",
        "\n"
      ],
      "metadata": {
        "colab": {
          "base_uri": "https://localhost:8080/"
        },
        "id": "ToG-s9caGQXO",
        "outputId": "c6a53cd0-4e36-41e3-fdd5-33fc24c68270"
      },
      "execution_count": null,
      "outputs": [
        {
          "output_type": "stream",
          "name": "stdout",
          "text": [
            "Downloading https://www.cs.toronto.edu/~kriz/cifar-10-python.tar.gz to ./data/cifar-10-python.tar.gz\n"
          ]
        },
        {
          "output_type": "stream",
          "name": "stderr",
          "text": [
            "100%|██████████| 170498071/170498071 [00:01<00:00, 100888507.14it/s]\n"
          ]
        },
        {
          "output_type": "stream",
          "name": "stdout",
          "text": [
            "Extracting ./data/cifar-10-python.tar.gz to ./data\n",
            "Files already downloaded and verified\n",
            "Files already downloaded and verified\n"
          ]
        }
      ]
    },
    {
      "cell_type": "code",
      "source": [
        "import matplotlib.pyplot as plt\n",
        "import numpy as np\n",
        "\n",
        "# Function to show an image\n",
        "def imshow(img):\n",
        "    img = img / 2 + 0.5     # Unnormalize\n",
        "    npimg = img.numpy()\n",
        "    plt.imshow(np.transpose(npimg, (1, 2, 0)))\n",
        "\n",
        "batch_size = 6\n",
        "\n",
        "# Get some random training images\n",
        "dataiter = iter(train_loader)\n",
        "images, labels = next(dataiter)\n",
        "\n",
        "# Define the figure size\n",
        "plt.figure(figsize=(3, 4))  # 6 columns and 4 rows\n",
        "\n",
        "# Show images and print labels for the first 6 images\n",
        "for i in range(batch_size):\n",
        "    plt.subplot(2, 3, i+1)  # 2 rows, 3 columns, i+1 denotes the position of the subplot\n",
        "    imshow(torchvision.utils.make_grid(images[i]))\n",
        "    plt.title(f\"{classes[labels[i]]}\")\n",
        "    plt.axis('off')  # Turn off axis\n",
        "\n",
        "plt.tight_layout()\n",
        "plt.show()"
      ],
      "metadata": {
        "colab": {
          "base_uri": "https://localhost:8080/",
          "height": 307
        },
        "id": "cQaKr1lmGh4c",
        "outputId": "f8c1eb08-e180-4c6c-f324-6f5fe315e509"
      },
      "execution_count": null,
      "outputs": [
        {
          "output_type": "display_data",
          "data": {
            "text/plain": [
              "<Figure size 300x400 with 6 Axes>"
            ],
            "image/png": "[encoded data removed]"
          },
          "metadata": {}
        }
      ]
    },
    {
      "cell_type": "code",
      "source": [
        "class SimpleCNN(nn.Module):\n",
        "    def __init__(self):\n",
        "        super(SimpleCNN, self).__init__()\n",
        "        self.conv1 = nn.Conv2d(3, 32, kernel_size=3, stride=1, padding=1)\n",
        "        self.pool = nn.MaxPool2d(kernel_size=2, stride=2)\n",
        "        self.conv2 = nn.Conv2d(32, 64, kernel_size=3, stride=1, padding=1)\n",
        "        self.fc1 = nn.Linear(64 * 8 * 8, 128)\n",
        "        self.fc2 = nn.Linear(128, 10)\n",
        "\n",
        "    def forward(self, x):\n",
        "        x = self.pool(torch.relu(self.conv1(x))) #This line applies the first convolutional layer (conv1) to the input x, then applies the ReLU activation function (torch.relu)\n",
        "        x = self.pool(torch.relu(self.conv2(x)))\n",
        "        x = x.view(-1, 64 * 8 * 8) #This line reshapes (flattens) the output tensor x from the previous layer to prepare it for the fully connected layers.\n",
        "        x = torch.relu(self.fc1(x)) #This applies the ReLU activation function to the output of the first fully connected layer (fc1).\n",
        "        x = self.fc2(x) #This applies the second fully connected layer (fc2) to produce the final output tensor x\n",
        "        return x"
      ],
      "metadata": {
        "id": "zw2tci9SqOBo"
      },
      "execution_count": null,
      "outputs": []
    },
    {
      "cell_type": "code",
      "source": [
        "device = torch.device(\"cuda\" if torch.cuda.is_available() else \"cpu\")\n",
        "\n",
        "model = SimpleCNN().to(device)"
      ],
      "metadata": {
        "id": "GKQT4m9SqIWn"
      },
      "execution_count": null,
      "outputs": []
    },
    {
      "cell_type": "code",
      "source": [
        "criterion = nn.CrossEntropyLoss()\n",
        "optimizer = optim.Adam(model.parameters(), lr=0.001)"
      ],
      "metadata": {
        "id": "WHhGrmyaqVOJ"
      },
      "execution_count": null,
      "outputs": []
    },
    {
      "cell_type": "code",
      "source": [
        "num_epochs = 5\n",
        "for epoch in range(num_epochs): # loop over the dataset multiple times\n",
        "    model.train()  # Set the model to training mode\n",
        "    running_loss = 0.0\n",
        "    correct_train = 0\n",
        "    total_train = 0\n",
        "\n",
        "    for images, labels in train_loader: # get the inputs; images.to(device), labels.to(device) is a list of [images, labels]\n",
        "        images, labels = images.to(device), labels.to(device)  # Move data to GPU\n",
        "\n",
        "        # zero the parameter gradients\n",
        "        optimizer.zero_grad()\n",
        "\n",
        "        # forward + backward + optimize\n",
        "        outputs = model(images)\n",
        "        loss = criterion(outputs, labels)\n",
        "        loss.backward()\n",
        "        optimizer.step()\n",
        "\n",
        "        running_loss += loss.item()\n",
        "        _, predicted = torch.max(outputs.data, 1)\n",
        "        total_train += labels.size(0)\n",
        "        correct_train += (predicted == labels).sum().item()\n",
        "\n",
        "    epoch_loss = running_loss / len(train_loader)\n",
        "    train_accuracy = correct_train / total_train\n",
        "\n",
        "    # Validation loop\n",
        "    model.eval()  # Set the model to evaluation mode\n",
        "    correct_val = 0\n",
        "    total_val = 0\n",
        "\n",
        "    with torch.no_grad():\n",
        "        for images, labels in val_loader:\n",
        "            images, labels = images.to(device), labels.to(device)\n",
        "            outputs = model(images)\n",
        "            _, predicted = torch.max(outputs.data, 1)\n",
        "            total_val += labels.size(0)\n",
        "            correct_val += (predicted == labels).sum().item()\n",
        "\n",
        "    val_accuracy = correct_val / total_val\n",
        "\n",
        "    # Print training and validation statistics\n",
        "    print(f'Epoch {epoch + 1}/{num_epochs}, Loss: {epoch_loss:.4f}, '\n",
        "          f'Train Accuracy: {train_accuracy:.4f}, Val Accuracy: {val_accuracy:.4f}')"
      ],
      "metadata": {
        "colab": {
          "base_uri": "https://localhost:8080/"
        },
        "id": "a8dvKYCIqWQJ",
        "outputId": "44843f3a-c891-483b-bb0c-97dfdd62401b"
      },
      "execution_count": null,
      "outputs": [
        {
          "output_type": "stream",
          "name": "stdout",
          "text": [
            "Epoch 1/5, Loss: 1.3367, Train Accuracy: 0.5222, Val Accuracy: 0.6104\n",
            "Epoch 2/5, Loss: 0.9680, Train Accuracy: 0.6588, Val Accuracy: 0.6692\n",
            "Epoch 3/5, Loss: 0.8153, Train Accuracy: 0.7142, Val Accuracy: 0.6931\n",
            "Epoch 4/5, Loss: 0.7011, Train Accuracy: 0.7550, Val Accuracy: 0.7063\n",
            "Epoch 5/5, Loss: 0.6077, Train Accuracy: 0.7875, Val Accuracy: 0.7252\n"
          ]
        }
      ]
    },
    {
      "cell_type": "code",
      "source": [
        "torch.save(model.state_dict(), 'cifar10_model.pth')"
      ],
      "metadata": {
        "id": "1PNDTHNbqffI"
      },
      "execution_count": null,
      "outputs": []
    },
    {
      "cell_type": "code",
      "source": [
        "dataiter = iter(test_loader)\n",
        "images, labels = next(dataiter)\n",
        "\n",
        "# print images\n",
        "# Define the figure size\n",
        "plt.figure(figsize=(3, 3))  # 3 columns and 4 rows\n",
        "\n",
        "# Print images and labels for the first 4 images\n",
        "for i in range(min(4, len(labels))):\n",
        "    plt.subplot(2, 2, i+1)  # 2 rows, 2 columns, i+1 denotes the position of the subplot\n",
        "    imshow(torchvision.utils.make_grid(images[i]))\n",
        "    plt.title(f\"Label: {classes[labels[i]]}\")\n",
        "    plt.axis('off')  # Turn off axis\n",
        "\n",
        "plt.tight_layout()\n",
        "plt.show()\n"
      ],
      "metadata": {
        "colab": {
          "base_uri": "https://localhost:8080/",
          "height": 306
        },
        "id": "zbZ-NnrbqilV",
        "outputId": "2c3821fa-ce9b-43c6-fc8d-c7e17aea3d0e"
      },
      "execution_count": null,
      "outputs": [
        {
          "output_type": "display_data",
          "data": {
            "text/plain": [
              "<Figure size 300x300 with 4 Axes>"
            ],
            "image/png": "[encoded data removed]"
          },
          "metadata": {}
        }
      ]
    },
    {
      "cell_type": "code",
      "source": [
        "model = SimpleCNN().to(device)\n",
        "model.load_state_dict(torch.load('cifar10_model.pth'))"
      ],
      "metadata": {
        "colab": {
          "base_uri": "https://localhost:8080/"
        },
        "id": "_kuRISKgqAGB",
        "outputId": "9f6c54b8-db45-4eb8-a2cb-6e3306eac929"
      },
      "execution_count": null,
      "outputs": [
        {
          "output_type": "execute_result",
          "data": {
            "text/plain": [
              "<All keys matched successfully>"
            ]
          },
          "metadata": {},
          "execution_count": 14
        }
      ]
    },
    {
      "cell_type": "code",
      "source": [
        "outputs = model(images)"
      ],
      "metadata": {
        "id": "RXWReCgqqAAi"
      },
      "execution_count": null,
      "outputs": []
    },
    {
      "cell_type": "code",
      "source": [
        "_, predicted = torch.max(outputs, 1)\n",
        "\n",
        "print('Predicted: ', ' '.join(f'{classes[predicted[j]]:5s}'\n",
        "                              for j in range(4)))"
      ],
      "metadata": {
        "colab": {
          "base_uri": "https://localhost:8080/"
        },
        "id": "hhMEosWTs9yq",
        "outputId": "90f8db06-e920-45f7-8530-645547df3ff6"
      },
      "execution_count": null,
      "outputs": [
        {
          "output_type": "stream",
          "name": "stdout",
          "text": [
            "Predicted:  horse cat   dog   deer \n"
          ]
        }
      ]
    },
    {
      "cell_type": "code",
      "source": [
        "correct = 0\n",
        "total = 0\n",
        "# since we're not training, we don't need to calculate the gradients for our outputs\n",
        "with torch.no_grad():\n",
        "    for data in test_loader:\n",
        "        images, labels = data\n",
        "        # calculate outputs by running images through the network\n",
        "        outputs = model(images)\n",
        "        # the class with the highest energy is what we choose as prediction\n",
        "        _, predicted = torch.max(outputs.data, 1)\n",
        "        total += labels.size(0)\n",
        "        correct += (predicted == labels).sum().item()\n",
        "\n",
        "print(f'Accuracy of the network on the 10000 test images: {100 * correct // total} %')"
      ],
      "metadata": {
        "colab": {
          "base_uri": "https://localhost:8080/"
        },
        "id": "h6LwjDU9tDhB",
        "outputId": "eb68f7c0-ea41-4d82-a8f3-a1b270aa51ec"
      },
      "execution_count": null,
      "outputs": [
        {
          "output_type": "stream",
          "name": "stdout",
          "text": [
            "Accuracy of the network on the 10000 test images: 72 %\n"
          ]
        }
      ]
    },
    {
      "cell_type": "code",
      "source": [
        "# prepare to count predictions for each class\n",
        "correct_pred = {classname: 0 for classname in classes}\n",
        "total_pred = {classname: 0 for classname in classes}\n",
        "\n",
        "# again no gradients needed\n",
        "with torch.no_grad():\n",
        "    for data in test_loader:\n",
        "        images, labels = data\n",
        "        outputs = model(images)\n",
        "        _, predictions = torch.max(outputs, 1)\n",
        "        # collect the correct predictions for each class\n",
        "        for label, prediction in zip(labels, predictions):\n",
        "            if label == prediction:\n",
        "                correct_pred[classes[label]] += 1\n",
        "            total_pred[classes[label]] += 1\n",
        "\n",
        "\n",
        "# print accuracy for each class\n",
        "for classname, correct_count in correct_pred.items():\n",
        "    accuracy = 100 * float(correct_count) / total_pred[classname]\n",
        "    print(f'Accuracy for class: {classname:5s} is {accuracy:.1f} %')"
      ],
      "metadata": {
        "colab": {
          "base_uri": "https://localhost:8080/"
        },
        "id": "ydkg0m8OtUfT",
        "outputId": "f1976054-4874-49df-ba9f-d400f6d7d620"
      },
      "execution_count": null,
      "outputs": [
        {
          "output_type": "stream",
          "name": "stdout",
          "text": [
            "Accuracy for class: plane is 74.6 %\n",
            "Accuracy for class: car   is 83.6 %\n",
            "Accuracy for class: bird  is 59.9 %\n",
            "Accuracy for class: cat   is 59.9 %\n",
            "Accuracy for class: deer  is 67.1 %\n",
            "Accuracy for class: dog   is 59.9 %\n",
            "Accuracy for class: frog  is 84.6 %\n",
            "Accuracy for class: horse is 78.6 %\n",
            "Accuracy for class: ship  is 80.2 %\n",
            "Accuracy for class: truck is 76.8 %\n"
          ]
        }
      ]
    },
    {
      "cell_type": "code",
      "source": [
        "# Define the FGSM attack\n",
        "attack_FGSM = torchattacks.FGSM(model, eps=8/255)\n",
        "\n",
        "# Choose a random data point from the test dataset\n",
        "index_FGSM = np.random.randint(0, len(test_dataset))\n",
        "original_image_FGSM, original_label_FGSM = test_dataset[index_FGSM]\n",
        "print(\"Original Label:\", original_label_FGSM)\n",
        "\n",
        "# Ensure original_label is a PyTorch tensor\n",
        "original_label_tensor_FGSM = torch.tensor(original_label_FGSM)\n",
        "\n",
        "# Apply the FGSM attack to the original image\n",
        "adv_images_FGSM = attack_FGSM(original_image_FGSM.unsqueeze(0), original_label_tensor_FGSM.unsqueeze(0))\n",
        "\n",
        "# Predictions on original and adversarial images\n",
        "original_prediction_FGSM = torch.argmax(model(original_image_FGSM.unsqueeze(0)))\n",
        "adversarial_prediction_FGSM = torch.argmax(model(adv_images_FGSM))\n",
        "\n",
        "# Check if the predictions differ\n",
        "if original_prediction_FGSM != adversarial_prediction_FGSM:\n",
        "    print(\"The image has likely been attacked by an adversarial perturbation.\")\n",
        "else:\n",
        "    print(\"The image has not been attacked by an adversarial perturbation.\")\n",
        "\n",
        "\n",
        "# Visualize the original image and adversarial image along with their predictions\n",
        "fig, axs = plt.subplots(1, 2, figsize=(3, 5))\n",
        "\n",
        "# Original image\n",
        "axs[0].imshow(np.transpose(original_image_FGSM.squeeze().detach().cpu().numpy(), (1, 2, 0)))\n",
        "axs[0].set_title(\"Original Image\")\n",
        "axs[0].axis('off')\n",
        "\n",
        "# Adversarial image\n",
        "axs[1].imshow(np.transpose(adv_images_FGSM.squeeze().detach().cpu().numpy(), (1, 2, 0)))\n",
        "axs[1].set_title(\"Adversarial Image\")\n",
        "axs[1].axis('off')\n",
        "\n",
        "plt.show()\n",
        "\n",
        "# Print the original and adversarial predictions\n",
        "print(\"Original Prediction:\", classes[original_prediction_FGSM.item()])\n",
        "print(\"Adversarial Prediction:\", classes[adversarial_prediction_FGSM.item()])\n",
        "\n",
        "\n",
        "# Check if the predictions differ\n",
        "\n",
        "# Initialize variables to count successful attacks\n",
        "successful_attacks = 0\n",
        "total_samples = len(test_dataset)\n",
        "\n",
        "\n",
        "if original_prediction_FGSM != adversarial_prediction_FGSM:\n",
        "  successful_attacks += 1\n",
        "\n",
        "# Calculate the success rate\n",
        "success_rate = successful_attacks / total_samples\n",
        "\n",
        "# Print the success rate\n",
        "print(\"Success Rate:\", success_rate)\n"
      ],
      "metadata": {
        "colab": {
          "base_uri": "https://localhost:8080/",
          "height": 275
        },
        "id": "M0BshoS8Tjcc",
        "outputId": "48947f4a-7f00-41b9-dcdf-957ed16fd2df"
      },
      "execution_count": null,
      "outputs": [
        {
          "output_type": "stream",
          "name": "stderr",
          "text": [
            "WARNING:matplotlib.image:Clipping input data to the valid range for imshow with RGB data ([0..1] for floats or [0..255] for integers).\n"
          ]
        },
        {
          "output_type": "stream",
          "name": "stdout",
          "text": [
            "Original Label: 7\n",
            "The image has likely been attacked by an adversarial perturbation.\n"
          ]
        },
        {
          "output_type": "display_data",
          "data": {
            "text/plain": [
              "<Figure size 300x500 with 2 Axes>"
            ],
            "image/png": "[encoded data removed]"
          },
          "metadata": {}
        },
        {
          "output_type": "stream",
          "name": "stdout",
          "text": [
            "Original Prediction: horse\n",
            "Adversarial Prediction: deer\n",
            "Success Rate: 0.0001\n"
          ]
        }
      ]
    },
    {
      "cell_type": "markdown",
      "source": [
        "**RFGSM Attack**"
      ],
      "metadata": {
        "id": "z76DOoz6thSL"
      }
    },
    {
      "cell_type": "code",
      "source": [
        "# The RFGSM Attack\n",
        "attack_RGSM = torchattacks.RFGSM(model, eps=8/255)\n",
        "\n",
        "# Choose a random data point from the test dataset\n",
        "index_RFGSM = np.random.randint(0, len(test_dataset))\n",
        "original_image_RFGSM, original_label_RFGSM = test_dataset[index_RFGSM]\n",
        "print(\"Original Label:\", original_label_RFGSM)\n",
        "\n",
        "# Ensure original_label is a PyTorch tensor\n",
        "original_label_tensor_RFGSM = torch.tensor(original_label_RFGSM)\n",
        "\n",
        "# Apply the RFGSM attack to the original image\n",
        "adv_images_RFGSM = attack_RGSM(original_image_RFGSM.unsqueeze(0), original_label_tensor_RFGSM.unsqueeze(0))\n",
        "\n",
        "# Predictions on original and adversarial images\n",
        "original_prediction_RFGSM = torch.argmax(model(original_image_RFGSM.unsqueeze(0)))\n",
        "adversarial_prediction_RFGSM = torch.argmax(model(adv_images_RFGSM))\n",
        "\n",
        "# Check if the predictions differ\n",
        "if original_prediction_RFGSM != adversarial_prediction_RFGSM:\n",
        "    print(\"The image has likely been attacked by an adversarial perturbation.\")\n",
        "else:\n",
        "    print(\"The image has not been attacked by an adversarial perturbation.\")\n",
        "\n",
        "\n",
        "\n",
        "# Visualize the original image and adversarial image along with their predictions\n",
        "fig, axs = plt.subplots(1, 2, figsize=(3, 5))\n",
        "\n",
        "\n",
        "# Original image\n",
        "axs[0].imshow(np.transpose(original_image_RFGSM.squeeze().detach().cpu().numpy(), (1, 2, 0)))\n",
        "axs[0].set_title(\"Org Image\")\n",
        "axs[0].axis('off')\n",
        "\n",
        "# Adversarial image\n",
        "axs[1].imshow(np.transpose(adv_images_RFGSM.squeeze().detach().cpu().numpy(), (1, 2, 0)))\n",
        "axs[1].set_title(\"Adv Image\")\n",
        "axs[1].axis('off')\n",
        "\n",
        "plt.show()\n",
        "\n",
        "# Print the original and adversarial predictions\n",
        "print(\"Original Prediction:\", classes[original_prediction_RFGSM.item()])\n",
        "print(\"Adversarial Prediction:\", classes[adversarial_prediction_RFGSM.item()])\n",
        "\n",
        "\n",
        "# Check if the predictions differ\n",
        "\n",
        "# Initialize variables to count successful attacks\n",
        "successful_attacks = 0\n",
        "total_samples = len(test_dataset)\n",
        "\n",
        "if original_prediction_RFGSM != adversarial_prediction_RFGSM:\n",
        "  successful_attacks += 1\n",
        "\n",
        "# Calculate the success rate\n",
        "success_rate = successful_attacks / total_samples\n",
        "\n",
        "# Print the success rate\n",
        "print(\"Success Rate:\", success_rate)\n",
        "\n"
      ],
      "metadata": {
        "colab": {
          "base_uri": "https://localhost:8080/",
          "height": 275
        },
        "id": "3LdoNcsyttMZ",
        "outputId": "d623893d-8605-45b2-ac36-5f71479d6cb7"
      },
      "execution_count": null,
      "outputs": [
        {
          "output_type": "stream",
          "name": "stderr",
          "text": [
            "WARNING:matplotlib.image:Clipping input data to the valid range for imshow with RGB data ([0..1] for floats or [0..255] for integers).\n"
          ]
        },
        {
          "output_type": "stream",
          "name": "stdout",
          "text": [
            "Original Label: 3\n",
            "The image has likely been attacked by an adversarial perturbation.\n"
          ]
        },
        {
          "output_type": "display_data",
          "data": {
            "text/plain": [
              "<Figure size 300x500 with 2 Axes>"
            ],
            "image/png": "[encoded data removed]"
          },
          "metadata": {}
        },
        {
          "output_type": "stream",
          "name": "stdout",
          "text": [
            "Original Prediction: cat\n",
            "Adversarial Prediction: bird\n",
            "Success Rate: 0.0001\n"
          ]
        }
      ]
    },
    {
      "cell_type": "markdown",
      "source": [
        "**PGD Attack**"
      ],
      "metadata": {
        "id": "Am5PKR-bxTKK"
      }
    },
    {
      "cell_type": "code",
      "source": [
        "# The PGD Attack\n",
        "attack_PGD = torchattacks.PGD(model, eps=8/255)\n",
        "\n",
        "# Choose a random data point from the test dataset\n",
        "index_PGD = np.random.randint(0, len(test_dataset))\n",
        "original_image_PGD, original_label_PGD = test_dataset[index_PGD]\n",
        "print(\"Original Label:\", original_label_PGD)\n",
        "\n",
        "# Ensure original_label is a PyTorch tensor\n",
        "original_label_tensor_PGD = torch.tensor(original_label_PGD)\n",
        "\n",
        "# Apply the PGD attack to the original image\n",
        "adv_images_PGD = attack_PGD(original_image_PGD.unsqueeze(0), original_label_tensor_PGD.unsqueeze(0))\n",
        "\n",
        "# Predictions on original and adversarial images\n",
        "original_prediction_PGD = torch.argmax(model(original_image_PGD.unsqueeze(0)))\n",
        "adversarial_prediction_PGD = torch.argmax(model(adv_images_PGD))\n",
        "\n",
        "# Check if the predictions differ\n",
        "if original_prediction_PGD != adversarial_prediction_PGD:\n",
        "    print(\"The image has likely been attacked by an adversarial perturbation.\")\n",
        "else:\n",
        "    print(\"The image has not been attacked by an adversarial perturbation.\")\n",
        "\n",
        "\n",
        "# Visualize the original image and adversarial image along with their predictions\n",
        "fig, axs = plt.subplots(1, 2, figsize=(3, 5))\n",
        "\n",
        "\n",
        "# Original image\n",
        "axs[0].imshow(np.transpose(original_image_PGD.squeeze().detach().cpu().numpy(), (1, 2, 0)))\n",
        "axs[0].set_title(\"Org Image\")\n",
        "axs[0].axis('off')\n",
        "\n",
        "# Adversarial image\n",
        "axs[1].imshow(np.transpose(adv_images_PGD.squeeze().detach().cpu().numpy(), (1, 2, 0)))\n",
        "axs[1].set_title(\"Adv Image\")\n",
        "axs[1].axis('off')\n",
        "\n",
        "plt.show()\n",
        "\n",
        "\n",
        "# Print the original and adversarial predictions\n",
        "print(\"Original Prediction:\", classes[original_prediction_PGD.item()])\n",
        "print(\"Adversarial Prediction:\", classes[adversarial_prediction_PGD.item()])\n",
        "\n",
        "\n",
        "# Check if the predictions differ\n",
        "\n",
        "# Initialize variables to count successful attacks\n",
        "successful_attacks = 0\n",
        "total_samples = len(test_dataset)\n",
        "\n",
        "if original_prediction_PGD != adversarial_prediction_PGD:\n",
        "  successful_attacks += 1\n",
        "\n",
        "# Calculate the success rate\n",
        "success_rate = successful_attacks / total_samples\n",
        "\n",
        "# Print the success rate\n",
        "print(\"Success Rate:\", success_rate)\n"
      ],
      "metadata": {
        "colab": {
          "base_uri": "https://localhost:8080/",
          "height": 275
        },
        "id": "3bQpbDZDxSV2",
        "outputId": "e7a0cadc-361a-4194-fbf4-049e75c0bf63"
      },
      "execution_count": null,
      "outputs": [
        {
          "output_type": "stream",
          "name": "stderr",
          "text": [
            "WARNING:matplotlib.image:Clipping input data to the valid range for imshow with RGB data ([0..1] for floats or [0..255] for integers).\n"
          ]
        },
        {
          "output_type": "stream",
          "name": "stdout",
          "text": [
            "Original Label: 6\n",
            "The image has likely been attacked by an adversarial perturbation.\n"
          ]
        },
        {
          "output_type": "display_data",
          "data": {
            "text/plain": [
              "<Figure size 300x500 with 2 Axes>"
            ],
            "image/png": "[encoded data removed]"
          },
          "metadata": {}
        },
        {
          "output_type": "stream",
          "name": "stdout",
          "text": [
            "Original Prediction: frog\n",
            "Adversarial Prediction: bird\n",
            "Success Rate: 0.0001\n"
          ]
        }
      ]
    },
    {
      "cell_type": "markdown",
      "source": [
        "EOTPGD Attack"
      ],
      "metadata": {
        "id": "KDAhCCz7yrRi"
      }
    },
    {
      "cell_type": "code",
      "source": [
        "# The EOTPGD Attack\n",
        "attack_EOTPGD = torchattacks.EOTPGD(model, eps=8/255)\n",
        "\n",
        "# Choose a random data point from the test dataset\n",
        "index_EOTPGD = np.random.randint(0, len(test_dataset))\n",
        "original_image_EOTPGD, original_label_EOTPGD = test_dataset[index_EOTPGD]\n",
        "print(\"Original Label:\", original_label_EOTPGD)\n",
        "\n",
        "# Ensure original_label is a PyTorch tensor\n",
        "original_label_tensor_EOTPGD = torch.tensor(original_label_EOTPGD)\n",
        "\n",
        "# Apply the EOTPGD attack to the original image\n",
        "adv_images_EOTPGD = attack_EOTPGD(original_image_EOTPGD.unsqueeze(0), original_label_tensor_EOTPGD.unsqueeze(0))\n",
        "\n",
        "# Predictions on original and adversarial images\n",
        "original_prediction_EOTPGD = torch.argmax(model(original_image_EOTPGD.unsqueeze(0)))\n",
        "adversarial_prediction_EOTPGD = torch.argmax(model(adv_images_EOTPGD))\n",
        "\n",
        "# Check if the predictions differ\n",
        "if original_prediction_EOTPGD != adversarial_prediction_EOTPGD:\n",
        "    print(\"The image has likely been attacked by an adversarial perturbation.\")\n",
        "else:\n",
        "    print(\"The image has not been attacked by an adversarial perturbation.\")\n",
        "\n",
        "\n",
        "# Visualize the original image and adversarial image along with their predictions\n",
        "fig, axs = plt.subplots(1, 2, figsize=(3, 5))\n",
        "\n",
        "\n",
        "# Original image\n",
        "axs[0].imshow(np.transpose(original_image_EOTPGD.squeeze().detach().cpu().numpy(), (1, 2, 0)))\n",
        "axs[0].set_title(\"Org Image\")\n",
        "axs[0].axis('off')\n",
        "\n",
        "# Adversarial image\n",
        "axs[1].imshow(np.transpose(adv_images_EOTPGD.squeeze().detach().cpu().numpy(), (1, 2, 0)))\n",
        "axs[1].set_title(\"Adv Image\")\n",
        "axs[1].axis('off')\n",
        "\n",
        "plt.show()\n",
        "\n",
        "\n",
        "# Print the original and adversarial predictions\n",
        "print(\"Original Prediction:\", classes[original_prediction_EOTPGD.item()])\n",
        "print(\"Adversarial Prediction:\", classes[adversarial_prediction_EOTPGD.item()])\n",
        "\n",
        "\n",
        "# Check if the predictions differ\n",
        "\n",
        "# Initialize variables to count successful attacks\n",
        "successful_attacks = 0\n",
        "total_samples = len(test_dataset)\n",
        "\n",
        "if original_prediction_EOTPGD != adversarial_prediction_EOTPGD:\n",
        "  successful_attacks += 1\n",
        "\n",
        "# Calculate the success rate\n",
        "success_rate = successful_attacks / total_samples\n",
        "\n",
        "# Print the success rate\n",
        "print(\"Success Rate:\", success_rate)"
      ],
      "metadata": {
        "colab": {
          "base_uri": "https://localhost:8080/",
          "height": 275
        },
        "id": "JFCLTymByxnD",
        "outputId": "78603681-987d-4b38-c686-02007ed7a387"
      },
      "execution_count": null,
      "outputs": [
        {
          "output_type": "stream",
          "name": "stderr",
          "text": [
            "WARNING:matplotlib.image:Clipping input data to the valid range for imshow with RGB data ([0..1] for floats or [0..255] for integers).\n"
          ]
        },
        {
          "output_type": "stream",
          "name": "stdout",
          "text": [
            "Original Label: 9\n",
            "The image has likely been attacked by an adversarial perturbation.\n"
          ]
        },
        {
          "output_type": "display_data",
          "data": {
            "text/plain": [
              "<Figure size 300x500 with 2 Axes>"
            ],
            "image/png": "[encoded data removed]"
          },
          "metadata": {}
        },
        {
          "output_type": "stream",
          "name": "stdout",
          "text": [
            "Original Prediction: truck\n",
            "Adversarial Prediction: ship\n",
            "Success Rate: 0.0001\n"
          ]
        }
      ]
    },
    {
      "cell_type": "markdown",
      "source": [
        "FFGSM Attack"
      ],
      "metadata": {
        "id": "uD0qCC1nyyY4"
      }
    },
    {
      "cell_type": "code",
      "source": [
        "# The FFGSM Attack\n",
        "attack_FFGSM = torchattacks.FFGSM(model, eps=8/255)\n",
        "\n",
        "# Choose a random data point from the test dataset\n",
        "index_FFGSM = np.random.randint(0, len(test_dataset))\n",
        "original_image_FFGSM, original_label_FFGSM = test_dataset[index_FFGSM]\n",
        "print(\"Original Label:\", original_label_FFGSM)\n",
        "\n",
        "# Ensure original_label is a PyTorch tensor\n",
        "original_label_tensor_FFGSM = torch.tensor(original_label_FFGSM)\n",
        "\n",
        "# Apply the FFGSM attack to the original image\n",
        "adv_images_FFGSM = attack_FFGSM(original_image_FFGSM.unsqueeze(0), original_label_tensor_FFGSM.unsqueeze(0))\n",
        "\n",
        "# Predictions on original and adversarial images\n",
        "original_prediction_FFGSM = torch.argmax(model(original_image_FFGSM.unsqueeze(0)))\n",
        "adversarial_prediction_FFGSM = torch.argmax(model(adv_images_FFGSM))\n",
        "\n",
        "# Check if the predictions differ\n",
        "if original_prediction_FFGSM != adversarial_prediction_FFGSM:\n",
        "    print(\"The image has likely been attacked by an adversarial perturbation.\")\n",
        "else:\n",
        "    print(\"The image has not been attacked by an adversarial perturbation.\")\n",
        "\n",
        "\n",
        "# Visualize the original image and adversarial image along with their predictions\n",
        "fig, axs = plt.subplots(1, 2, figsize=(3, 5))\n",
        "\n",
        "\n",
        "# Original image\n",
        "axs[0].imshow(np.transpose(original_image_FFGSM.squeeze().detach().cpu().numpy(), (1, 2, 0)))\n",
        "axs[0].set_title(\"Org Image\")\n",
        "axs[0].axis('off')\n",
        "\n",
        "# Adversarial image\n",
        "axs[1].imshow(np.transpose(adv_images_FFGSM.squeeze().detach().cpu().numpy(), (1, 2, 0)))\n",
        "axs[1].set_title(\"Adv Image\")\n",
        "axs[1].axis('off')\n",
        "\n",
        "plt.show()\n",
        "\n",
        "\n",
        "# Print the original and adversarial predictions\n",
        "print(\"Original Prediction:\", classes[original_prediction_FFGSM.item()])\n",
        "print(\"Adversarial Prediction:\", classes[adversarial_prediction_FFGSM.item()])\n",
        "\n",
        "\n",
        "# Check if the predictions differ\n",
        "\n",
        "# Initialize variables to count successful attacks\n",
        "successful_attacks = 0\n",
        "total_samples = len(test_dataset)\n",
        "\n",
        "if original_prediction_FFGSM != adversarial_prediction_FFGSM:\n",
        "  successful_attacks += 1\n",
        "\n",
        "# Calculate the success rate\n",
        "success_rate = successful_attacks / total_samples\n",
        "\n",
        "# Print the success rate\n",
        "print(\"Success Rate:\", success_rate)"
      ],
      "metadata": {
        "colab": {
          "base_uri": "https://localhost:8080/",
          "height": 275
        },
        "id": "so7MZ26ly07R",
        "outputId": "522803fd-7188-4976-d3c7-c845e6302c1e"
      },
      "execution_count": null,
      "outputs": [
        {
          "output_type": "stream",
          "name": "stderr",
          "text": [
            "WARNING:matplotlib.image:Clipping input data to the valid range for imshow with RGB data ([0..1] for floats or [0..255] for integers).\n"
          ]
        },
        {
          "output_type": "stream",
          "name": "stdout",
          "text": [
            "Original Label: 4\n",
            "The image has likely been attacked by an adversarial perturbation.\n"
          ]
        },
        {
          "output_type": "display_data",
          "data": {
            "text/plain": [
              "<Figure size 300x500 with 2 Axes>"
            ],
            "image/png": "[encoded data removed]"
          },
          "metadata": {}
        },
        {
          "output_type": "stream",
          "name": "stdout",
          "text": [
            "Original Prediction: deer\n",
            "Adversarial Prediction: ship\n",
            "Success Rate: 0.0001\n"
          ]
        }
      ]
    },
    {
      "cell_type": "code",
      "source": [
        "#CW Attack\n",
        "\n",
        "attack_CW = torchattacks.CW(model, c = 1, kappa = 0, steps = 50, lr = 0.01 )\n",
        "\n",
        "# Choose a random data point from the test dataset\n",
        "index_CW = np.random.randint(0, len(test_dataset))\n",
        "original_image_CW, original_label_CW = test_dataset[index_CW]\n",
        "print(\"Original Label:\", original_label_CW)\n",
        "\n",
        "# Ensure original_label is a PyTorch tensor\n",
        "original_label_tensor_CW = torch.tensor(original_label_CW)\n",
        "\n",
        "# Apply the CW attack to the original image\n",
        "adv_images_CW = attack_CW(original_image_CW.unsqueeze(0), original_label_tensor_CW.unsqueeze(0))\n",
        "\n",
        "# Predictions on original and adversarial images\n",
        "original_prediction_CW = torch.argmax(model(original_image_CW.unsqueeze(0)))\n",
        "adversarial_prediction_CW = torch.argmax(model(adv_images_CW))\n",
        "\n",
        "# Check if the predictions differ\n",
        "if original_prediction_CW != adversarial_prediction_CW:\n",
        "    print(\"The image has likely been attacked by an adversarial perturbation.\")\n",
        "else:\n",
        "    print(\"The image has not been attacked by an adversarial perturbation.\")\n",
        "\n",
        "\n",
        "# Visualize the original image and adversarial image along with their predictions\n",
        "fig, axs = plt.subplots(1, 2, figsize=(3, 5))\n",
        "\n",
        "\n",
        "# Original image\n",
        "axs[0].imshow(np.transpose(original_image_CW.squeeze().detach().cpu().numpy(), (1, 2, 0)))\n",
        "axs[0].set_title(\"Org Image\")\n",
        "axs[0].axis('off')\n",
        "\n",
        "# Adversarial image\n",
        "axs[1].imshow(np.transpose(adv_images_CW.squeeze().detach().cpu().numpy(), (1, 2, 0)))\n",
        "axs[1].set_title(\"Adv Image\")\n",
        "axs[1].axis('off')\n",
        "\n",
        "plt.show()\n",
        "\n",
        "\n",
        "# Print the original and adversarial predictions\n",
        "print(\"Original Prediction:\", classes[original_prediction_CW.item()])\n",
        "print(\"Adversarial Prediction:\", classes[adversarial_prediction_CW.item()])\n",
        "\n",
        "\n",
        "# Check if the predictions differ\n",
        "\n",
        "# Initialize variables to count successful attacks\n",
        "successful_attacks = 0\n",
        "total_samples = len(test_dataset)\n",
        "\n",
        "if original_prediction_CW != adversarial_prediction_CW:\n",
        "  successful_attacks += 1\n",
        "\n",
        "# Calculate the success rate\n",
        "success_rate = successful_attacks / total_samples\n",
        "\n",
        "# Print the success rate\n",
        "print(\"Success Rate:\", success_rate)\n"
      ],
      "metadata": {
        "colab": {
          "base_uri": "https://localhost:8080/",
          "height": 275
        },
        "id": "EiXNxWlAOkWC",
        "outputId": "2a854d99-7415-4817-ae11-20a55849f97b"
      },
      "execution_count": null,
      "outputs": [
        {
          "output_type": "stream",
          "name": "stdout",
          "text": [
            "Original Label: 7\n"
          ]
        },
        {
          "output_type": "stream",
          "name": "stderr",
          "text": [
            "WARNING:matplotlib.image:Clipping input data to the valid range for imshow with RGB data ([0..1] for floats or [0..255] for integers).\n"
          ]
        },
        {
          "output_type": "stream",
          "name": "stdout",
          "text": [
            "The image has likely been attacked by an adversarial perturbation.\n"
          ]
        },
        {
          "output_type": "display_data",
          "data": {
            "text/plain": [
              "<Figure size 300x500 with 2 Axes>"
            ],
            "image/png": "[encoded data removed]"
          },
          "metadata": {}
        },
        {
          "output_type": "stream",
          "name": "stdout",
          "text": [
            "Original Prediction: horse\n",
            "Adversarial Prediction: plane\n",
            "Success Rate: 0.0001\n"
          ]
        }
      ]
    },
    {
      "cell_type": "code",
      "source": [
        "#PGDL2 Attack\n",
        "\n",
        "attack_PGDL2 = torchattacks.PGDL2(model, eps = 1, alpha = 0.2, steps = 10, random_start = True)\n",
        "# (model, eps = 1, alpha = 0.2, steps = 10, random_start = True, eps_for_division = 1e-10)\n",
        "\n",
        "# Choose a random data point from the test dataset\n",
        "index_PGDL2 = np.random.randint(0, len(test_dataset))\n",
        "original_image_PGDL2, original_label_PGDL2 = test_dataset[index_PGDL2]\n",
        "print(\"Original Label:\", original_label_PGDL2)\n",
        "\n",
        "# Ensure original_label is a PyTorch tensor\n",
        "original_label_tensor_PGDL2 = torch.tensor(original_label_PGDL2)\n",
        "\n",
        "# Apply the PGDL2 attack to the original image\n",
        "adv_images_PGDL2 = attack_PGDL2(original_image_PGDL2.unsqueeze(0), original_label_tensor_PGDL2.unsqueeze(0))\n",
        "\n",
        "# Predictions on original and adversarial images\n",
        "original_prediction_PGDL2 = torch.argmax(model(original_image_PGDL2.unsqueeze(0)))\n",
        "adversarial_prediction_PGDL2 = torch.argmax(model(adv_images_PGDL2))\n",
        "\n",
        "# Check if the predictions differ\n",
        "if original_prediction_PGDL2 != adversarial_prediction_PGDL2:\n",
        "    print(\"The image has likely been attacked by an adversarial perturbation.\")\n",
        "else:\n",
        "    print(\"The image has not been attacked by an adversarial perturbation.\")\n",
        "\n",
        "\n",
        "# Visualize the original image and adversarial image along with their predictions\n",
        "fig, axs = plt.subplots(1, 2, figsize=(3, 5))\n",
        "\n",
        "\n",
        "# Original image\n",
        "axs[0].imshow(np.transpose(original_image_PGDL2.squeeze().detach().cpu().numpy(), (1, 2, 0)))\n",
        "axs[0].set_title(\"Org Image\")\n",
        "axs[0].axis('off')\n",
        "\n",
        "# Adversarial image\n",
        "axs[1].imshow(np.transpose(adv_images_PGDL2.squeeze().detach().cpu().numpy(), (1, 2, 0)))\n",
        "axs[1].set_title(\"Adv Image\")\n",
        "axs[1].axis('off')\n",
        "\n",
        "plt.show()\n",
        "\n",
        "\n",
        "# Print the original and adversarial predictions\n",
        "print(\"Original Prediction:\", classes[original_prediction_PGDL2.item()])\n",
        "print(\"Adversarial Prediction:\", classes[adversarial_prediction_PGDL2.item()])\n",
        "\n",
        "\n",
        "# Check if the predictions differ\n",
        "\n",
        "# Initialize variables to count successful attacks\n",
        "successful_attacks = 0\n",
        "total_samples = len(test_dataset)\n",
        "\n",
        "if original_prediction_PGDL2 != adversarial_prediction_PGDL2:\n",
        "  successful_attacks += 1\n",
        "\n",
        "# Calculate the success rate\n",
        "success_rate = successful_attacks / total_samples\n",
        "\n",
        "# Print the success rate\n",
        "print(\"Success Rate:\", success_rate)\n",
        "\n"
      ],
      "metadata": {
        "colab": {
          "base_uri": "https://localhost:8080/",
          "height": 275
        },
        "id": "EVriXQF2NEFc",
        "outputId": "28af5dcd-39cf-4d08-b1dd-02fe32f9da99"
      },
      "execution_count": null,
      "outputs": [
        {
          "output_type": "stream",
          "name": "stderr",
          "text": [
            "WARNING:matplotlib.image:Clipping input data to the valid range for imshow with RGB data ([0..1] for floats or [0..255] for integers).\n"
          ]
        },
        {
          "output_type": "stream",
          "name": "stdout",
          "text": [
            "Original Label: 9\n",
            "The image has likely been attacked by an adversarial perturbation.\n"
          ]
        },
        {
          "output_type": "display_data",
          "data": {
            "text/plain": [
              "<Figure size 300x500 with 2 Axes>"
            ],
            "image/png": "[encoded data removed]"
          },
          "metadata": {}
        },
        {
          "output_type": "stream",
          "name": "stdout",
          "text": [
            "Original Prediction: car\n",
            "Adversarial Prediction: plane\n",
            "Success Rate: 0.0001\n"
          ]
        }
      ]
    },
    {
      "cell_type": "code",
      "source": [
        "# PGDRSL2 Attack\n",
        "\n",
        "attack_PGDRSL2 = torchattacks.PGDRSL2(model, eps = 1, steps = 10)\n",
        "# eps: float = 1, alpha: float = 0.2, steps: int = 10, noise_type: str = \"guassian\", noise_sd: float = 0.5, noise_batch_size: int = 5, batch_max: int = 2048, eps_for_division: float = 1e-10)\n",
        "\n",
        "# Choose a random data point from the test dataset\n",
        "index_PGDRSL2 = np.random.randint(0, len(test_dataset))\n",
        "original_image_PGDRSL2, original_label_PGDRSL2 = test_dataset[index_PGDRSL2]\n",
        "print(\"Original Label:\", original_label_PGDRSL2)\n",
        "\n",
        "# Ensure original_label is a PyTorch tensor\n",
        "original_label_tensor_PGDRSL2 = torch.tensor(original_label_PGDRSL2)\n",
        "\n",
        "# Apply the PGDRSL2 attack to the original image\n",
        "adv_images_PGDRSL2 = attack_PGDRSL2(original_image_PGDRSL2.unsqueeze(0), original_label_tensor_PGDRSL2.unsqueeze(0))\n",
        "\n",
        "# Predictions on original and adversarial images\n",
        "original_prediction_PGDRSL2 = torch.argmax(model(original_image_PGDRSL2.unsqueeze(0)))\n",
        "adversarial_prediction_PGDRSL2 = torch.argmax(model(adv_images_PGDRSL2))\n",
        "\n",
        "# Check if the predictions differ\n",
        "if original_prediction_PGDRSL2 != adversarial_prediction_PGDRSL2:\n",
        "    print(\"The image has likely been attacked by an adversarial perturbation.\")\n",
        "else:\n",
        "    print(\"The image has not been attacked by an adversarial perturbation.\")\n",
        "\n",
        "\n",
        "# Visualize the original image and adversarial image along with their predictions\n",
        "fig, axs = plt.subplots(1, 2, figsize=(3, 5))\n",
        "\n",
        "\n",
        "# Original image\n",
        "axs[0].imshow(np.transpose(original_image_PGDRSL2.squeeze().detach().cpu().numpy(), (1, 2, 0)))\n",
        "axs[0].set_title(\"Org Image\")\n",
        "axs[0].axis('off')\n",
        "\n",
        "# Adversarial image\n",
        "axs[1].imshow(np.transpose(adv_images_PGDRSL2.squeeze().detach().cpu().numpy(), (1, 2, 0)))\n",
        "axs[1].set_title(\"Adv Image\")\n",
        "axs[1].axis('off')\n",
        "\n",
        "plt.show()\n",
        "\n",
        "\n",
        "# Print the original and adversarial predictions\n",
        "print(\"Original Prediction:\", classes[original_prediction_PGDRSL2.item()])\n",
        "print(\"Adversarial Prediction:\", classes[adversarial_prediction_PGDRSL2.item()])\n",
        "\n",
        "\n",
        "# Check if the predictions differ\n",
        "\n",
        "# Initialize variables to count successful attacks\n",
        "successful_attacks = 0\n",
        "total_samples = len(test_dataset)\n",
        "\n",
        "if original_prediction_PGDRSL2 != adversarial_prediction_PGDRSL2:\n",
        "  successful_attacks += 1\n",
        "\n",
        "# Calculate the success rate\n",
        "success_rate = successful_attacks / total_samples\n",
        "\n",
        "# Print the success rate\n",
        "print(\"Success Rate:\", success_rate)"
      ],
      "metadata": {
        "colab": {
          "base_uri": "https://localhost:8080/",
          "height": 275
        },
        "id": "scpZzRWPTPHf",
        "outputId": "260ea36d-4d55-4c25-91b5-4150b01c889e"
      },
      "execution_count": null,
      "outputs": [
        {
          "output_type": "stream",
          "name": "stderr",
          "text": [
            "WARNING:matplotlib.image:Clipping input data to the valid range for imshow with RGB data ([0..1] for floats or [0..255] for integers).\n"
          ]
        },
        {
          "output_type": "stream",
          "name": "stdout",
          "text": [
            "Original Label: 6\n",
            "The image has likely been attacked by an adversarial perturbation.\n"
          ]
        },
        {
          "output_type": "display_data",
          "data": {
            "text/plain": [
              "<Figure size 300x500 with 2 Axes>"
            ],
            "image/png": "[encoded data removed]"
          },
          "metadata": {}
        },
        {
          "output_type": "stream",
          "name": "stdout",
          "text": [
            "Original Prediction: frog\n",
            "Adversarial Prediction: bird\n",
            "Success Rate: 0.0001\n"
          ]
        }
      ]
    },
    {
      "cell_type": "code",
      "source": [
        "# DeepFool Attack\n",
        "\n",
        "attack_DeepFool = torchattacks.DeepFool(model, steps = 50, overshoot = 0.02 )\n",
        "\n",
        "# Choose a random data point from the test dataset\n",
        "index_DeepFool = np.random.randint(0, len(test_dataset))\n",
        "original_image_DeepFool, original_label_DeepFool = test_dataset[index_DeepFool]\n",
        "print(\"Original Label:\", original_label_DeepFool)\n",
        "\n",
        "# Ensure original_label is a PyTorch tensor\n",
        "original_label_tensor_DeepFool = torch.tensor(original_label_DeepFool)\n",
        "\n",
        "# Apply the DeepFool attack to the original image\n",
        "adv_images_DeepFool = attack_DeepFool(original_image_DeepFool.unsqueeze(0), original_label_tensor_DeepFool.unsqueeze(0))\n",
        "\n",
        "# Predictions on original and adversarial images\n",
        "original_prediction_DeepFool = torch.argmax(model(original_image_DeepFool.unsqueeze(0)))\n",
        "adversarial_prediction_DeepFool = torch.argmax(model(adv_images_DeepFool))\n",
        "\n",
        "# Check if the predictions differ\n",
        "if original_prediction_DeepFool != adversarial_prediction_DeepFool:\n",
        "    print(\"The image has likely been attacked by an adversarial perturbation.\")\n",
        "else:\n",
        "    print(\"The image has not been attacked by an adversarial perturbation.\")\n",
        "\n",
        "\n",
        "# Visualize the original image and adversarial image along with their predictions\n",
        "fig, axs = plt.subplots(1, 2, figsize=(3, 5))\n",
        "\n",
        "\n",
        "# Original image\n",
        "axs[0].imshow(np.transpose(original_image_DeepFool.squeeze().detach().cpu().numpy(), (1, 2, 0)))\n",
        "axs[0].set_title(\"Org Image\")\n",
        "axs[0].axis('off')\n",
        "\n",
        "# Adversarial image\n",
        "axs[1].imshow(np.transpose(adv_images_DeepFool.squeeze().detach().cpu().numpy(), (1, 2, 0)))\n",
        "axs[1].set_title(\"Adv Image\")\n",
        "axs[1].axis('off')\n",
        "\n",
        "plt.show()\n",
        "\n",
        "\n",
        "# Print the original and adversarial predictions\n",
        "print(\"Original Prediction:\", classes[original_prediction_DeepFool.item()])\n",
        "print(\"Adversarial Prediction:\", classes[adversarial_prediction_DeepFool.item()])\n",
        "\n",
        "\n",
        "# Check if the predictions differ\n",
        "\n",
        "# Initialize variables to count successful attacks\n",
        "successful_attacks = 0\n",
        "total_samples = len(test_dataset)\n",
        "\n",
        "if original_prediction_DeepFool != adversarial_prediction_DeepFool:\n",
        "  successful_attacks += 1\n",
        "\n",
        "# Calculate the success rate\n",
        "success_rate = successful_attacks / total_samples\n",
        "\n",
        "# Print the success rate\n",
        "print(\"Success Rate:\", success_rate)"
      ],
      "metadata": {
        "colab": {
          "base_uri": "https://localhost:8080/",
          "height": 275
        },
        "id": "-Wz4H1zNTWHj",
        "outputId": "52b4303f-8142-4368-d4cc-2fa724c8826c"
      },
      "execution_count": null,
      "outputs": [
        {
          "output_type": "stream",
          "name": "stdout",
          "text": [
            "Original Label: 0\n"
          ]
        },
        {
          "output_type": "stream",
          "name": "stderr",
          "text": [
            "WARNING:matplotlib.image:Clipping input data to the valid range for imshow with RGB data ([0..1] for floats or [0..255] for integers).\n"
          ]
        },
        {
          "output_type": "stream",
          "name": "stdout",
          "text": [
            "The image has likely been attacked by an adversarial perturbation.\n"
          ]
        },
        {
          "output_type": "display_data",
          "data": {
            "text/plain": [
              "<Figure size 300x500 with 2 Axes>"
            ],
            "image/png": "[encoded data removed]"
          },
          "metadata": {}
        },
        {
          "output_type": "stream",
          "name": "stdout",
          "text": [
            "Original Prediction: plane\n",
            "Adversarial Prediction: ship\n",
            "Success Rate: 0.0001\n"
          ]
        }
      ]
    },
    {
      "cell_type": "code",
      "source": [
        "# SparseFool Attack\n",
        "\n",
        "attack_SparseFool = torchattacks.SparseFool(model, steps = 10, lam = 3, overshoot = 0.02 )\n",
        "\n",
        "# Choose a random data point from the test dataset\n",
        "index_SparseFool = np.random.randint(0, len(test_dataset))\n",
        "original_image_SparseFool, original_label_SparseFool = test_dataset[index_SparseFool]\n",
        "print(\"Original Label:\", original_label_SparseFool)\n",
        "\n",
        "# Ensure original_label is a PyTorch tensor\n",
        "original_label_tensor_SparseFool = torch.tensor(original_label_SparseFool)\n",
        "\n",
        "# Apply the SparseFool attack to the original image\n",
        "adv_images_SparseFool = attack_SparseFool(original_image_SparseFool.unsqueeze(0), original_label_tensor_SparseFool.unsqueeze(0))\n",
        "\n",
        "# Predictions on original and adversarial images\n",
        "original_prediction_SparseFool = torch.argmax(model(original_image_SparseFool.unsqueeze(0)))\n",
        "adversarial_prediction_SparseFool = torch.argmax(model(adv_images_SparseFool))\n",
        "\n",
        "# Check if the predictions differ\n",
        "if original_prediction_SparseFool!= adversarial_prediction_SparseFool:\n",
        "    print(\"The image has likely been attacked by an adversarial perturbation.\")\n",
        "else:\n",
        "    print(\"The image has not been attacked by an adversarial perturbation.\")\n",
        "\n",
        "\n",
        "# Visualize the original image and adversarial image along with their predictions\n",
        "fig, axs = plt.subplots(1, 2, figsize=(3, 5))\n",
        "\n",
        "\n",
        "# Original image\n",
        "axs[0].imshow(np.transpose(original_image_SparseFool.squeeze().detach().cpu().numpy(), (1, 2, 0)))\n",
        "axs[0].set_title(\"Org Image\")\n",
        "axs[0].axis('off')\n",
        "\n",
        "# Adversarial image\n",
        "axs[1].imshow(np.transpose(adv_images_SparseFool.squeeze().detach().cpu().numpy(), (1, 2, 0)))\n",
        "axs[1].set_title(\"Adv Image\")\n",
        "axs[1].axis('off')\n",
        "\n",
        "plt.show()\n",
        "\n",
        "\n",
        "# Print the original and adversarial predictions\n",
        "print(\"Original Prediction:\", classes[original_prediction_SparseFool.item()])\n",
        "print(\"Adversarial Prediction:\", classes[adversarial_prediction_SparseFool.item()])\n",
        "\n",
        "\n",
        "# Check if the predictions differ\n",
        "\n",
        "# Initialize variables to count successful attacks\n",
        "successful_attacks = 0\n",
        "total_samples = len(test_dataset)\n",
        "\n",
        "if original_prediction_SparseFool != adversarial_prediction_SparseFool:\n",
        "  successful_attacks += 1\n",
        "\n",
        "# Calculate the success rate\n",
        "success_rate = successful_attacks / total_samples\n",
        "\n",
        "# Print the success rate\n",
        "print(\"Success Rate:\", success_rate)"
      ],
      "metadata": {
        "colab": {
          "base_uri": "https://localhost:8080/",
          "height": 275
        },
        "id": "e1QYgtTVTaDR",
        "outputId": "bc10fbfb-0fc6-4346-a525-ad0741605ce1"
      },
      "execution_count": null,
      "outputs": [
        {
          "output_type": "stream",
          "name": "stdout",
          "text": [
            "Original Label: 7\n"
          ]
        },
        {
          "output_type": "stream",
          "name": "stderr",
          "text": [
            "WARNING:matplotlib.image:Clipping input data to the valid range for imshow with RGB data ([0..1] for floats or [0..255] for integers).\n"
          ]
        },
        {
          "output_type": "stream",
          "name": "stdout",
          "text": [
            "The image has likely been attacked by an adversarial perturbation.\n"
          ]
        },
        {
          "output_type": "display_data",
          "data": {
            "text/plain": [
              "<Figure size 300x500 with 2 Axes>"
            ],
            "image/png": "[encoded data removed]"
          },
          "metadata": {}
        },
        {
          "output_type": "stream",
          "name": "stdout",
          "text": [
            "Original Prediction: horse\n",
            "Adversarial Prediction: frog\n",
            "Success Rate: 0.0001\n"
          ]
        }
      ]
    },
    {
      "cell_type": "code",
      "source": [
        "# OnePixel Attack\n",
        "\n",
        "attack_OnePixel = torchattacks.OnePixel(model, pixels = 1, steps = 10, popsize = 10, inf_batch = 128)\n",
        "\n",
        "# Choose a random data point from the test dataset\n",
        "index_OnePixel = np.random.randint(0, len(test_dataset))\n",
        "original_image_OnePixel, original_label_OnePixel = test_dataset[index_OnePixel]\n",
        "print(\"Original Label:\", original_label_OnePixel)\n",
        "\n",
        "# Ensure original_label is a PyTorch tensor\n",
        "original_label_tensor_OnePixel = torch.tensor(original_label_OnePixel)\n",
        "\n",
        "# Apply the OnePixel attack to the original image\n",
        "adv_images_OnePixel = attack_OnePixel(original_image_OnePixel.unsqueeze(0), original_label_tensor_OnePixel.unsqueeze(0))\n",
        "\n",
        "# Predictions on original and adversarial images\n",
        "original_prediction_OnePixel = torch.argmax(model(original_image_OnePixel.unsqueeze(0)))\n",
        "adversarial_prediction_OnePixel = torch.argmax(model(adv_images_OnePixel))\n",
        "\n",
        "# Check if the predictions differ\n",
        "if original_prediction_OnePixel != adversarial_prediction_OnePixel:\n",
        "    print(\"The image has likely been attacked by an adversarial perturbation.\")\n",
        "else:\n",
        "    print(\"The image has not been attacked by an adversarial perturbation.\")\n",
        "\n",
        "\n",
        "# Visualize the original image and adversarial image along with their predictions\n",
        "fig, axs = plt.subplots(1, 2, figsize=(3, 5))\n",
        "\n",
        "\n",
        "# Original image\n",
        "axs[0].imshow(np.transpose(original_image_OnePixel.squeeze().detach().cpu().numpy(), (1, 2, 0)))\n",
        "axs[0].set_title(\"Org Image\")\n",
        "axs[0].axis('off')\n",
        "\n",
        "# Adversarial image\n",
        "axs[1].imshow(np.transpose(adv_images_OnePixel.squeeze().detach().cpu().numpy(), (1, 2, 0)))\n",
        "axs[1].set_title(\"Adv Image\")\n",
        "axs[1].axis('off')\n",
        "\n",
        "plt.show()\n",
        "\n",
        "\n",
        "# Print the original and adversarial predictions\n",
        "print(\"Original Prediction:\", classes[original_prediction_OnePixel.item()])\n",
        "print(\"Adversarial Prediction:\", classes[adversarial_prediction_OnePixel.item()])\n",
        "\n",
        "\n",
        "# Check if the predictions differ\n",
        "\n",
        "# Initialize variables to count successful attacks\n",
        "successful_attacks = 0\n",
        "total_samples = len(test_dataset)\n",
        "\n",
        "if original_prediction_OnePixel != adversarial_prediction_OnePixel:\n",
        "  successful_attacks += 1\n",
        "\n",
        "# Calculate the success rate\n",
        "success_rate = successful_attacks / total_samples\n",
        "\n",
        "# Print the success rate\n",
        "print(\"Success Rate:\", success_rate)\n"
      ],
      "metadata": {
        "colab": {
          "base_uri": "https://localhost:8080/",
          "height": 294
        },
        "id": "faIXtTB3TfYx",
        "outputId": "2dd1c784-48b0-4afd-e62f-b0509c312d0f"
      },
      "execution_count": null,
      "outputs": [
        {
          "output_type": "stream",
          "name": "stderr",
          "text": [
            "WARNING:matplotlib.image:Clipping input data to the valid range for imshow with RGB data ([0..1] for floats or [0..255] for integers).\n",
            "WARNING:matplotlib.image:Clipping input data to the valid range for imshow with RGB data ([0..1] for floats or [0..255] for integers).\n"
          ]
        },
        {
          "output_type": "stream",
          "name": "stdout",
          "text": [
            "Original Label: 8\n",
            "The image has not been attacked by an adversarial perturbation.\n"
          ]
        },
        {
          "output_type": "display_data",
          "data": {
            "text/plain": [
              "<Figure size 300x500 with 2 Axes>"
            ],
            "image/png": "[encoded data removed]"
          },
          "metadata": {}
        },
        {
          "output_type": "stream",
          "name": "stdout",
          "text": [
            "Original Prediction: ship\n",
            "Adversarial Prediction: ship\n",
            "Success Rate: 0.0\n"
          ]
        }
      ]
    },
    {
      "cell_type": "code",
      "source": [
        "# Pixle Attack\n",
        "\n",
        "attack_Pixle = torchattacks.Pixle(model, restarts = 20, max_iterations = 10 )\n",
        "# (model, x_dimensions: Any = (2, 10), y_dimensions: Any = (2, 10), pixel_mapping: str = \"random\", restarts: int = 20, max_iterations: int = 10, update_each_iteration: bool = False)\n",
        "\n",
        "# Choose a random data point from the test dataset\n",
        "index_Pixle = np.random.randint(0, len(test_dataset))\n",
        "original_image_Pixle, original_label_Pixle = test_dataset[index_Pixle]\n",
        "print(\"Original Label:\", original_label_Pixle)\n",
        "\n",
        "# Ensure original_label is a PyTorch tensor\n",
        "original_label_tensor_Pixle = torch.tensor(original_label_Pixle)\n",
        "\n",
        "# Apply the Pixle attack to the original image\n",
        "adv_images_Pixle = attack_Pixle(original_image_Pixle.unsqueeze(0), original_label_tensor_Pixle.unsqueeze(0))\n",
        "\n",
        "# Predictions on original and adversarial images\n",
        "original_prediction_Pixle = torch.argmax(model(original_image_Pixle.unsqueeze(0)))\n",
        "adversarial_prediction_Pixle = torch.argmax(model(adv_images_Pixle))\n",
        "\n",
        "# Check if the predictions differ\n",
        "if original_prediction_Pixle != adversarial_prediction_Pixle:\n",
        "    print(\"The image has likely been attacked by an adversarial perturbation.\")\n",
        "else:\n",
        "    print(\"The image has not been attacked by an adversarial perturbation.\")\n",
        "\n",
        "\n",
        "# Visualize the original image and adversarial image along with their predictions\n",
        "fig, axs = plt.subplots(1, 2, figsize=(3, 5))\n",
        "\n",
        "\n",
        "# Original image\n",
        "axs[0].imshow(np.transpose(original_image_Pixle.squeeze().detach().cpu().numpy(), (1, 2, 0)))\n",
        "axs[0].set_title(\"Org Image\")\n",
        "axs[0].axis('off')\n",
        "\n",
        "# Adversarial image\n",
        "axs[1].imshow(np.transpose(adv_images_Pixle.squeeze().detach().cpu().numpy(), (1, 2, 0)))\n",
        "axs[1].set_title(\"Adv Image\")\n",
        "axs[1].axis('off')\n",
        "\n",
        "plt.show()\n",
        "\n",
        "\n",
        "# Print the original and adversarial predictions\n",
        "print(\"Original Prediction:\", classes[original_prediction_Pixle.item()])\n",
        "print(\"Adversarial Prediction:\", classes[adversarial_prediction_Pixle.item()])\n",
        "\n",
        "\n",
        "# Check if the predictions differ\n",
        "\n",
        "# Initialize variables to count successful attacks\n",
        "successful_attacks = 0\n",
        "total_samples = len(test_dataset)\n",
        "\n",
        "if original_prediction_Pixle != adversarial_prediction_Pixle:\n",
        "  successful_attacks += 1\n",
        "\n",
        "# Calculate the success rate\n",
        "success_rate = successful_attacks / total_samples\n",
        "\n",
        "# Print the success rate\n",
        "print(\"Success Rate:\", success_rate)\n"
      ],
      "metadata": {
        "colab": {
          "base_uri": "https://localhost:8080/",
          "height": 294
        },
        "id": "k1VltySDTi-p",
        "outputId": "ff5d5987-ace8-4e9e-b418-1297d9ca0291"
      },
      "execution_count": null,
      "outputs": [
        {
          "output_type": "stream",
          "name": "stderr",
          "text": [
            "WARNING:matplotlib.image:Clipping input data to the valid range for imshow with RGB data ([0..1] for floats or [0..255] for integers).\n",
            "WARNING:matplotlib.image:Clipping input data to the valid range for imshow with RGB data ([0..1] for floats or [0..255] for integers).\n"
          ]
        },
        {
          "output_type": "stream",
          "name": "stdout",
          "text": [
            "Original Label: 0\n",
            "The image has likely been attacked by an adversarial perturbation.\n"
          ]
        },
        {
          "output_type": "display_data",
          "data": {
            "text/plain": [
              "<Figure size 300x500 with 2 Axes>"
            ],
            "image/png": "[encoded data removed]"
          },
          "metadata": {}
        },
        {
          "output_type": "stream",
          "name": "stdout",
          "text": [
            "Original Prediction: plane\n",
            "Adversarial Prediction: car\n",
            "Success Rate: 0.0001\n"
          ]
        }
      ]
    },
    {
      "cell_type": "code",
      "source": [
        "# FAB Attack\n",
        "\n",
        "attack_FAB = torchattacks.FAB(model, eps = 8 / 255, steps = 10, seed = 0 )\n",
        "\n",
        "# Choose a random data point from the test dataset\n",
        "index_FAB = np.random.randint(0, len(test_dataset))\n",
        "original_image_FAB, original_label_FAB = test_dataset[index_FAB]\n",
        "print(\"Original Label:\", original_label_FAB)\n",
        "\n",
        "# Ensure original_label is a PyTorch tensor\n",
        "original_label_tensor_FAB = torch.tensor(original_label_FAB)\n",
        "\n",
        "# Apply the FAB attack to the original image\n",
        "adv_images_FAB = attack_FAB(original_image_FAB.unsqueeze(0), original_label_tensor_FAB.unsqueeze(0))\n",
        "\n",
        "# Predictions on original and adversarial images\n",
        "original_prediction_FAB = torch.argmax(model(original_image_FAB.unsqueeze(0)))\n",
        "adversarial_prediction_FAB = torch.argmax(model(adv_images_FAB))\n",
        "\n",
        "# Check if the predictions differ\n",
        "if original_prediction_FAB != adversarial_prediction_FAB:\n",
        "    print(\"The image has likely been attacked by an adversarial perturbation.\")\n",
        "else:\n",
        "    print(\"The image has not been attacked by an adversarial perturbation.\")\n",
        "\n",
        "\n",
        "# Visualize the original image and adversarial image along with their predictions\n",
        "fig, axs = plt.subplots(1, 2, figsize=(3, 5))\n",
        "\n",
        "\n",
        "# Original image\n",
        "axs[0].imshow(np.transpose(original_image_FAB.squeeze().detach().cpu().numpy(), (1, 2, 0)))\n",
        "axs[0].set_title(\"Org Image\")\n",
        "axs[0].axis('off')\n",
        "\n",
        "# Adversarial image\n",
        "axs[1].imshow(np.transpose(adv_images_FAB.squeeze().detach().cpu().numpy(), (1, 2, 0)))\n",
        "axs[1].set_title(\"Adv Image\")\n",
        "axs[1].axis('off')\n",
        "\n",
        "plt.show()\n",
        "\n",
        "\n",
        "# Print the original and adversarial predictions\n",
        "print(\"Original Prediction:\", classes[original_prediction_FAB.item()])\n",
        "print(\"Adversarial Prediction:\", classes[adversarial_prediction_FAB.item()])\n",
        "\n",
        "\n",
        "# Check if the predictions differ\n",
        "\n",
        "# Initialize variables to count successful attacks\n",
        "successful_attacks = 0\n",
        "total_samples = len(test_dataset)\n",
        "\n",
        "if original_prediction_FAB != adversarial_prediction_FAB:\n",
        "  successful_attacks += 1\n",
        "\n",
        "# Calculate the success rate\n",
        "success_rate = successful_attacks / total_samples\n",
        "\n",
        "# Print the success rate\n",
        "print(\"Success Rate:\", success_rate)\n"
      ],
      "metadata": {
        "colab": {
          "base_uri": "https://localhost:8080/",
          "height": 294
        },
        "id": "ZdmH0R7TTmm2",
        "outputId": "a2da87d1-2e8d-4e88-80cb-b8b840d6329d"
      },
      "execution_count": null,
      "outputs": [
        {
          "output_type": "stream",
          "name": "stdout",
          "text": [
            "Original Label: 6\n"
          ]
        },
        {
          "output_type": "stream",
          "name": "stderr",
          "text": [
            "WARNING:matplotlib.image:Clipping input data to the valid range for imshow with RGB data ([0..1] for floats or [0..255] for integers).\n",
            "WARNING:matplotlib.image:Clipping input data to the valid range for imshow with RGB data ([0..1] for floats or [0..255] for integers).\n"
          ]
        },
        {
          "output_type": "stream",
          "name": "stdout",
          "text": [
            "The image has not been attacked by an adversarial perturbation.\n"
          ]
        },
        {
          "output_type": "display_data",
          "data": {
            "text/plain": [
              "<Figure size 300x500 with 2 Axes>"
            ],
            "image/png": "[encoded data removed]"
          },
          "metadata": {}
        },
        {
          "output_type": "stream",
          "name": "stdout",
          "text": [
            "Original Prediction: frog\n",
            "Adversarial Prediction: frog\n",
            "Success Rate: 0.0\n"
          ]
        }
      ]
    },
    {
      "cell_type": "markdown",
      "source": [
        "**`Comparing all attack models`**"
      ],
      "metadata": {
        "id": "QGZ1wvWa6rbu"
      }
    },
    {
      "cell_type": "code",
      "source": [
        "# Define the FGSM attack\n",
        "attack_FGSM = torchattacks.FGSM(model, eps=8/255)\n",
        "\n",
        "# Define the RFGSM attack\n",
        "attack_RFGSM = torchattacks.RFGSM(model, eps=8/255, alpha=2/255, steps=10)\n",
        "\n",
        "# Define the PGD attack\n",
        "attack_PGD = torchattacks.PGD(model, eps=8/255, steps=10, random_start=False)\n",
        "\n",
        "# Define the EOTPGD attack\n",
        "attack_EOTPGD = torchattacks.EOTPGD(model, eps=8/255, alpha = 2 / 255, steps=10,  eot_iter=2, random_start=False)\n",
        "\n",
        "# Define the FFGSM attack\n",
        "attack_FFGSM = torchattacks.FFGSM(model, eps=8/255, alpha=2/255)\n",
        "\n",
        "# Define the CW attack\n",
        "attack_CW = torchattacks.CW(model, c = 1, kappa = 0, steps = 50, lr = 0.01 )\n",
        "\n",
        "# Define the PGDL2 attack\n",
        "attack_PGDL2 = torchattacks.PGDL2(model, eps = 1, alpha = 0.2, steps = 10, random_start = True, eps_for_division = 1e-10)\n",
        "\n",
        "# Define the PGDRSL2 attack\n",
        "attack_PGDRSL2 = torchattacks.PGDRSL2(model, eps = 1, alpha = 0.2, noise_type = \"guassian\", noise_sd  = 0.5, noise_batch_size = 5, batch_max = 2048, eps_for_division = 1e-10)\n",
        "\n",
        "# Define the DeepFool attack\n",
        "attack_DeepFool = torchattacks.DeepFool(model, steps = 50, overshoot = 0.02 )\n",
        "\n",
        "# Define the SparseFool attack\n",
        "attack_SparseFool = torchattacks.SparseFool(model, steps = 10, lam = 3, overshoot = 0.02 )\n",
        "\n",
        "# Define the OnePixel attack\n",
        "attack_OnePixel = torchattacks.OnePixel(model, pixels = 1, steps = 10, popsize = 10, inf_batch = 128)\n",
        "\n",
        "# Define the Pixle attack\n",
        "attack_Pixle = torchattacks.Pixle (model, x_dimensions = (2, 10), y_dimensions  = (2, 10), pixel_mapping = \"random\", restarts = 20, max_iterations = 10, update_each_iteration  = False )\n",
        "\n",
        "# Define the FAB attack\n",
        "attack_FAB = torchattacks.FAB(model, eps = 8 / 255, steps = 10, seed = 0 )\n",
        "\n",
        "\n",
        "# Initialize variables to count successful attacks\n",
        "successful_attacks_FGSM = 0\n",
        "successful_attacks_RFGSM = 0\n",
        "successful_attacks_PGD = 0\n",
        "successful_attacks_EOTPGD = 0\n",
        "successful_attacks_FFGSM = 0\n",
        "successful_attacks_CW = 0\n",
        "successful_attacks_PGDL2 = 0\n",
        "successful_attacks_PGDRSL2 = 0\n",
        "successful_attacks_DeepFool = 0\n",
        "successful_attacks_SparseFool = 0\n",
        "successful_attacks_OnePixel = 0\n",
        "successful_attacks_Pixle = 0\n",
        "successful_attacks_FAB = 0\n",
        "\n",
        "total_samples = len(test_dataset)\n",
        "\n",
        "# Iterate over the test dataset\n",
        "for original_image, original_label in test_dataset:\n",
        "    # Ensure original_label is a PyTorch tensor\n",
        "    original_label_tensor = torch.tensor(original_label)\n",
        "\n",
        "    # Apply the FGSM attack to the original image\n",
        "    adv_images_FGSM = attack_FGSM(original_image.unsqueeze(0), original_label_tensor.unsqueeze(0))\n",
        "    # Apply the RFGSM attack to the original image\n",
        "    adv_images_RFGSM = attack_RFGSM(original_image.unsqueeze(0), original_label_tensor.unsqueeze(0))\n",
        "    # Apply the APGD attack to the original image\n",
        "    adv_images_PGD = attack_PGD(original_image.unsqueeze(0), original_label_tensor.unsqueeze(0))\n",
        "    # Apply the APGDT attack to the original image\n",
        "    adv_images_EOTPGD = attack_EOTPGD(original_image.unsqueeze(0), original_label_tensor.unsqueeze(0))\n",
        "    # Apply the FFGSM attack to the original image\n",
        "    adv_images_FFGSM = attack_FFGSM(original_image.unsqueeze(0), original_label_tensor.unsqueeze(0))\n",
        "    # Apply the CW attack to the original image\n",
        "    adv_images_CW = attack_CW(original_image.unsqueeze(0), original_label_tensor.unsqueeze(0))\n",
        "    # Apply the PGDL2 attack to the original image\n",
        "    adv_images_PGDL2 = attack_PGDL2(original_image.unsqueeze(0), original_label_tensor.unsqueeze(0))\n",
        "    # Apply the PGDRSL2 attack to the original image\n",
        "    adv_images_PGDRSL2 = attack_PGDRSL2(original_image.unsqueeze(0), original_label_tensor.unsqueeze(0))\n",
        "    # Apply the DeepFool attack to the original image\n",
        "    adv_images_DeepFool = attack_DeepFool(original_image.unsqueeze(0), original_label_tensor.unsqueeze(0))\n",
        "    # Apply the SparseFool attack to the original image\n",
        "    adv_images_SparseFool = attack_SparseFool(original_image.unsqueeze(0), original_label_tensor.unsqueeze(0))\n",
        "    # Apply the OnePixel attack to the original image\n",
        "    adv_images_OnePixel = attack_OnePixel(original_image.unsqueeze(0), original_label_tensor.unsqueeze(0))\n",
        "    # Apply the Pixle attack to the original image\n",
        "    adv_images_Pixle = attack_Pixle(original_image.unsqueeze(0), original_label_tensor.unsqueeze(0))\n",
        "    # Apply the FAB attack to the original image\n",
        "    adv_images_FAB = attack_FAB(original_image.unsqueeze(0), original_label_tensor.unsqueeze(0))\n",
        "\n",
        "\n",
        "    # Predictions on original and adversarial images\n",
        "    original_prediction = torch.argmax(model(original_image.unsqueeze(0)))\n",
        "    adversarial_prediction_FGSM = torch.argmax(model(adv_images_FGSM))\n",
        "    adversarial_prediction_RFGSM = torch.argmax(model(adv_images_RFGSM))\n",
        "    adversarial_prediction_PGD = torch.argmax(model(adv_images_PGD))\n",
        "    adversarial_prediction_EOTPGD = torch.argmax(model(adv_images_EOTPGD))\n",
        "    adversarial_prediction_FFGSM = torch.argmax(model(adv_images_FFGSM))\n",
        "    adversarial_prediction_CW = torch.argmax(model(adv_images_CW))\n",
        "    adversarial_prediction_PGDL2 = torch.argmax(model(adv_images_PGDL2))\n",
        "    adversarial_prediction_PGDRSL2 = torch.argmax(model(adv_images_PGDRSL2))\n",
        "    adversarial_prediction_DeepFool = torch.argmax(model(adv_images_DeepFool))\n",
        "    adversarial_prediction_SparseFool = torch.argmax(model(adv_images_SparseFool))\n",
        "    adversarial_prediction_OnePixel = torch.argmax(model(adv_images_OnePixel))\n",
        "    adversarial_prediction_Pixle = torch.argmax(model(adv_images_Pixle))\n",
        "    adversarial_prediction_FAB = torch.argmax(model(adv_images_FAB))\n",
        "\n",
        "\n",
        "    # Check if the predictions differ for FGSM attack\n",
        "    if original_prediction != adversarial_prediction_FGSM:\n",
        "        successful_attacks_FGSM += 1\n",
        "\n",
        "    # Check if the predictions differ for UPGD attack\n",
        "    if original_prediction != adversarial_prediction_RFGSM:\n",
        "        successful_attacks_RFGSM += 1\n",
        "\n",
        "    # Check if the predictions differ for APGD attack\n",
        "    if original_prediction != adversarial_prediction_PGD:\n",
        "        successful_attacks_PGD += 1\n",
        "\n",
        "    # Check if the predictions differ for APGDT attack\n",
        "    if original_prediction != adversarial_prediction_EOTPGD:\n",
        "        successful_attacks_EOTPGD += 1\n",
        "\n",
        "    # Check if the predictions differ for DIFGSM attack\n",
        "    if original_prediction != adversarial_prediction_FFGSM:\n",
        "        successful_attacks_FFGSM += 1\n",
        "\n",
        "    # Check if the predictions differ for CW attack\n",
        "    if original_prediction != adversarial_prediction_CW:\n",
        "        successful_attacks_CW += 1\n",
        "\n",
        "    # Check if the predictions differ for PGDL2 attack\n",
        "    if original_prediction != adversarial_prediction_PGDL2:\n",
        "        successful_attacks_PGDL2 += 1\n",
        "\n",
        "    # Check if the predictions differ for PGDRSL2  attack\n",
        "    if original_prediction != adversarial_prediction_PGDRSL2:\n",
        "        successful_attacks_PGDRSL2 += 1\n",
        "\n",
        "\n",
        "    # Check if the predictions differ for DeepFool  attack\n",
        "    if original_prediction != adversarial_prediction_DeepFool:\n",
        "        successful_attacks_DeepFool += 1\n",
        "\n",
        "    # Check if the predictions differ for SparseFool  attack\n",
        "    if original_prediction != adversarial_prediction_SparseFool:\n",
        "        successful_attacks_SparseFool += 1\n",
        "\n",
        "     # Check if the predictions differ for OnePixel  attack\n",
        "    if original_prediction != adversarial_prediction_OnePixel:\n",
        "        successful_attacks_OnePixel += 1\n",
        "\n",
        "     # Check if the predictions differ for Pixle  attack\n",
        "    if original_prediction != adversarial_prediction_Pixle:\n",
        "        successful_attacks_Pixle += 1\n",
        "\n",
        "     # Check if the predictions differ for FAB  attack\n",
        "    if original_prediction != adversarial_prediction_FAB:\n",
        "        successful_attacks_FAB += 1\n",
        "\n",
        "\n",
        "\n",
        "# Calculate the success rate for each attack\n",
        "success_rate_FGSM = successful_attacks_FGSM / total_samples\n",
        "success_rate_RFGSM = successful_attacks_RFGSM / total_samples\n",
        "success_rate_PGD = successful_attacks_PGD / total_samples\n",
        "success_rate_EOTPGD = successful_attacks_EOTPGD / total_samples\n",
        "success_rate_FFGSM = successful_attacks_FFGSM / total_samples\n",
        "success_rate_CW = successful_attacks_CW / total_samples\n",
        "success_rate_PGDL2 = successful_attacks_PGDL2 / total_samples\n",
        "success_rate_PGDRSL2 = successful_attacks_PGDRSL2 / total_samples\n",
        "success_rate_DeepFool = successful_attacks_DeepFool / total_samples\n",
        "success_rate_SparseFool = successful_attacks_SparseFool / total_samples\n",
        "success_rate_OnePixel = successful_attacks_OnePixel / total_samples\n",
        "success_rate_Pixle = successful_attacks_Pixle / total_samples\n",
        "success_rate_FAB = successful_attacks_FAB / total_samples\n",
        "\n",
        "\n",
        "\n",
        "# Print the success rates for each attack\n",
        "print(\"FGSM Success Rate:\", success_rate_FGSM)\n",
        "print(\"RFGSM Success Rate:\", success_rate_RFGSM)\n",
        "print(\"PGD Success Rate:\", success_rate_PGD)\n",
        "print(\"EOTPGD Success Rate:\", success_rate_EOTPGD)\n",
        "print(\"FFGSM Success Rate:\", success_rate_FFGSM)\n",
        "print(\"CW Success Rate:\", success_rate_CW)\n",
        "print(\"PGDL2 Success Rate:\", success_rate_PGDL2)\n",
        "print(\"PGDRSL2 Success Rate:\", success_rate_PGDRSL2)\n",
        "print(\"DeepFool Success Rate:\", success_rate_DeepFool)\n",
        "print(\"SparseFool Success Rate:\", success_rate_SparseFool)\n",
        "print(\"OnePixel Success Rate:\", success_rate_OnePixel)\n",
        "print(\"Pixle Success Rate:\", success_rate_Pixle)\n",
        "print(\"FAB Success Rate:\", success_rate_FAB)\n",
        "\n",
        "\n",
        "# Compare which attack has the highest success rate\n",
        "highest_success_rate = max(success_rate_FGSM, success_rate_RFGSM, success_rate_PGD, success_rate_EOTPGD, success_rate_FFGSM, success_rate_CW, success_rate_PGDL2, success_rate_PGDRSL2, success_rate_DeepFool, success_rate_SparseFool, success_rate_OnePixel, success_rate_Pixle, success_rate_FAB)\n",
        "if highest_success_rate == success_rate_FGSM:\n",
        "    print(\"FGSM has the highest success rate.\")\n",
        "elif highest_success_rate == success_rate_RFGSM:\n",
        "    print(\"RFGSM has the highest success rate.\")\n",
        "elif highest_success_rate == success_rate_PGD:\n",
        "    print(\"PGD has the highest success rate.\")\n",
        "elif highest_success_rate == success_rate_EOTPGD:\n",
        "    print(\"EOTPGD has the highest success rate.\")\n",
        "elif highest_success_rate == success_rate_FFGSM:\n",
        "    print(\"FFGSM has the highest success rate.\")\n",
        "elif highest_success_rate == success_rate_CW:\n",
        "    print(\"CW has the highest success rate.\")\n",
        "elif highest_success_rate == success_rate_PGDL2:\n",
        "    print(\"PGDL2 has the highest success rate.\")\n",
        "elif highest_success_rate == success_rate_PGDRSL2:\n",
        "    print(\"PGDRSL2 has the highest success rate.\")\n",
        "elif highest_success_rate == success_rate_DeepFool:\n",
        "    print(\"DeepFool has the highest success rate.\")\n",
        "elif highest_success_rate == success_rate_SparseFool:\n",
        "    print(\"SparseFool has the highest success rate.\")\n",
        "elif highest_success_rate == success_rate_OnePixel:\n",
        "    print(\"OnePixel has the highest success rate.\")\n",
        "elif highest_success_rate == success_rate_Pixle:\n",
        "    print(\"Pixle has the highest success rate.\")\n",
        "else:\n",
        "    print(\"FAB has the highest success rate.\")"
      ],
      "metadata": {
        "colab": {
          "base_uri": "https://localhost:8080/"
        },
        "id": "zyxXYZF66qcl",
        "outputId": "907c35f7-3126-466a-b416-472accf38c69"
      },
      "execution_count": null,
      "outputs": [
        {
          "output_type": "stream",
          "name": "stdout",
          "text": [
            "FGSM Success Rate: 0.7496\n",
            "RFGSM Success Rate: 0.879\n",
            "PGD Success Rate: 0.8771\n",
            "EOTPGD Success Rate: 0.8771\n",
            "FFGSM Success Rate: 0.7108\n",
            "CW Success Rate: 0.9016\n",
            "PGDL2 Success Rate: 0.649\n",
            "PGDRSL2 Success Rate: 0.7064\n",
            "DeepFool Success Rate: 0.6619\n",
            "SparseFool Success Rate: 0.7024\n",
            "OnePixel Success Rate: 0.1247\n",
            "Pixle Success Rate: 0.7372\n",
            "FAB Success Rate: 0.0\n",
            "CW has the highest success rate.\n"
          ]
        }
      ]
    }
  ]
}